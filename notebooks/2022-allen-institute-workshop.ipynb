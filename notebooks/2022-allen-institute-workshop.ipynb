{
 "cells": [
  {
   "cell_type": "markdown",
   "id": "11e51a9c",
   "metadata": {},
   "source": [
    "# Allen Institute Ephys Workshop\n",
    "September 22, 2022\n",
    "\n",
    "+ In this notebook, we will show how to interact with a database in Python and how export data into a Neurodata Without Borders (NWB) file.\n",
    "\n",
    "+ Other notebooks in this directory describe the process for running the analysis steps in more detail.\n",
    "\n",
    "+ This notebook is meant to be run on CodeBook (`https://codebook.datajoint.io`) which contains example data.\n",
    "\n",
    "First, some packages we'll use in this notebook..."
   ]
  },
  {
   "cell_type": "code",
   "execution_count": null,
   "id": "e1e0295c-57bf-49d2-9a1e-931d0e53264b",
   "metadata": {},
   "outputs": [],
   "source": [
    "import datajoint as dj\n",
    "import numpy as np\n",
    "from matplotlib import pyplot\n",
    "import getpass"
   ]
  },
  {
   "cell_type": "markdown",
   "id": "14a6ba1d",
   "metadata": {},
   "source": [
    "## Configuration"
   ]
  },
  {
   "cell_type": "markdown",
   "id": "cb03797f",
   "metadata": {},
   "source": [
    "These steps are taken from [01-configure](01-configure.ipynb). If you've already saved a config file, you can skip to the next section."
   ]
  },
  {
   "cell_type": "markdown",
   "id": "e652916f",
   "metadata": {},
   "source": [
    "Enter database credentials.  A DataJoint workflow requires a connection to an existing relational database. The connection setup parameters are defined in the `dj.config` python dictionary."
   ]
  },
  {
   "cell_type": "code",
   "execution_count": null,
   "id": "fdc35bd8-2381-4769-9f43-33a7f3fd2332",
   "metadata": {
    "tags": []
   },
   "outputs": [],
   "source": [
    "username_as_prefix = dj.config[\"database.user\"] + \"_ephys_\"\n",
    "dj.config['custom'] = {\n",
    "    'database.prefix': username_as_prefix,\n",
    "    'ephys_root_data_dir': [\n",
    "        \"/home/inbox/0.1.0a4/workflow_ephys_data1/\",\n",
    "        \"/home/inbox/0.1.0a4/workflow_ephys_data2/\",\n",
    "        \"/home/inbox/0.1.0a4/workflow_localization/\"\n",
    "    ],\n",
    "    \"ephys_mode\": \"no-curation\"\n",
    "}"
   ]
  },
  {
   "cell_type": "markdown",
   "id": "21a69c02",
   "metadata": {},
   "source": [
    "Next, we'll use a prompt to securely save your password."
   ]
  },
  {
   "cell_type": "code",
   "execution_count": null,
   "id": "66bea7cb",
   "metadata": {},
   "outputs": [],
   "source": [
    "dj.config[\"database.password\"] = getpass.getpass()"
   ]
  },
  {
   "cell_type": "markdown",
   "id": "c45a3aad",
   "metadata": {},
   "source": [
    "Now to save these credentials."
   ]
  },
  {
   "cell_type": "code",
   "execution_count": null,
   "id": "4e4f0448",
   "metadata": {},
   "outputs": [],
   "source": [
    "dj.config.save_global()"
   ]
  },
  {
   "cell_type": "markdown",
   "id": "a570822d",
   "metadata": {},
   "source": [
    "## Populating the database"
   ]
  },
  {
   "cell_type": "markdown",
   "id": "8ee61c1d",
   "metadata": {},
   "source": [
    "Next, we'll populate these schema using steps from [04-automate](04-automate-optional.ipynb). If your schema are already populated, you can skip this step. For more details on each of these steps, please visit [that notebook](04-automate-optional.ipynb)."
   ]
  },
  {
   "cell_type": "code",
   "execution_count": null,
   "id": "2a6388cc",
   "metadata": {},
   "outputs": [],
   "source": [
    "from workflow_array_ephys.pipeline import session, ephys # import schemas\n",
    "from workflow_array_ephys.ingest import ingest_subjects, ingest_sessions # csv loaders\n",
    "\n",
    "ingest_subjects(subject_csv_path=\"/home/user_data/subjects.csv\")\n",
    "ingest_sessions(session_csv_path=\"/home/user_data/sessions.csv\")\n",
    "\n",
    "params_ks = {\n",
    "    \"fs\": 30000,\n",
    "    \"fshigh\": 150,\n",
    "    \"minfr_goodchannels\": 0.1,\n",
    "    \"Th\": [10, 4],\n",
    "    \"lam\": 10,\n",
    "    \"AUCsplit\": 0.9,\n",
    "    \"minFR\": 0.02,\n",
    "    \"momentum\": [20, 400],\n",
    "    \"sigmaMask\": 30,\n",
    "    \"ThPr\": 8,\n",
    "    \"spkTh\": -6,\n",
    "    \"reorder\": 1,\n",
    "    \"nskip\": 25,\n",
    "    \"GPU\": 1,\n",
    "    \"Nfilt\": 1024,\n",
    "    \"nfilt_factor\": 4,\n",
    "    \"ntbuff\": 64,\n",
    "    \"whiteningRange\": 32,\n",
    "    \"nSkipCov\": 25,\n",
    "    \"scaleproc\": 200,\n",
    "    \"nPCs\": 3,\n",
    "    \"useRAM\": 0,\n",
    "}\n",
    "ephys.ClusteringParamSet.insert_new_params(\n",
    "    clustering_method=\"kilosort2\",\n",
    "    paramset_idx=0,\n",
    "    params=params_ks,\n",
    "    paramset_desc=\"Spike sorting using Kilosort2\",\n",
    ")\n",
    "session_key = (session.Session & 'subject=\"subject6\"').fetch1(\"KEY\")\n",
    "ephys.ProbeInsertion.auto_generate_entries(session_key)"
   ]
  },
  {
   "cell_type": "markdown",
   "id": "49d60c21",
   "metadata": {},
   "source": [
    "Next, we'll trigger the relevant `populate` commands."
   ]
  },
  {
   "cell_type": "code",
   "execution_count": null,
   "id": "dbbe978e",
   "metadata": {},
   "outputs": [],
   "source": [
    "populate_settings = {\"display_progress\": True}\n",
    "ephys.EphysRecording.populate(**populate_settings)\n",
    "ephys.LFP.populate(**populate_settings)\n",
    "ephys.ClusteringTask.insert1(\n",
    "    dict(\n",
    "        session_key,\n",
    "        insertion_number=0,\n",
    "        paramset_idx=0,\n",
    "        clustering_output_dir=\"subject6/session1/towersTask_g0_imec0\",\n",
    "    ),\n",
    "    skip_duplicates=True,\n",
    ")\n",
    "ephys.Clustering.populate(**populate_settings)\n",
    "ephys.CuratedClustering.populate(**populate_settings)\n",
    "# ephys.WaveformSet.populate(**populate_settings) # Time-consuming process"
   ]
  },
  {
   "cell_type": "markdown",
   "id": "c1c485bb",
   "metadata": {},
   "source": [
    "**Notes:** \n",
    "+ `ephys.WaveformSet.populate` takes significant time to populate with current CodeBook hardware allocations. The output will not be used directly in this notebook.\n",
    "+ The `process` script runs through all `populate` commands in order and could be used instead of the commands above. It could be used as follows\n",
    "```python\n",
    "from workflow_array_ephys import process; process.run(display_progress=True)\n",
    "```"
   ]
  },
  {
   "cell_type": "markdown",
   "id": "07747574",
   "metadata": {},
   "source": [
    "## Exploring the workflow"
   ]
  },
  {
   "cell_type": "markdown",
   "id": "7c545770",
   "metadata": {},
   "source": [
    "### Import the workflow\n",
    "\n",
    "The current workflow is composed of multiple database schemas, each of them corresponding to a module within the `workflow_array_ephys.pipeline` file."
   ]
  },
  {
   "cell_type": "code",
   "execution_count": null,
   "id": "ee08b24f",
   "metadata": {},
   "outputs": [],
   "source": [
    "from workflow_array_ephys.pipeline import lab, subject, session, probe, ephys"
   ]
  },
  {
   "cell_type": "markdown",
   "id": "2bd6d86b",
   "metadata": {},
   "source": [
    "### Diagrams and table design\n",
    "\n",
    "We can plot the workflow diagram.  In relational databases, the entities (i.e. rows) in different tables are connected to each other. Visualization of this relationship helps one to write accurate queries. For the array ephys workflow, this connection is as follows:"
   ]
  },
  {
   "cell_type": "code",
   "execution_count": null,
   "id": "8dd6d3ee",
   "metadata": {
    "tags": []
   },
   "outputs": [],
   "source": [
    "dj.Diagram(lab.Lab) + dj.Diagram(subject.Subject) + dj.Diagram(session.Session) + \\\n",
    "dj.Diagram(probe) + dj.Diagram(ephys)"
   ]
  },
  {
   "cell_type": "code",
   "execution_count": null,
   "id": "1caa7ced-93f6-4182-aa57-61bfbf961d38",
   "metadata": {},
   "outputs": [],
   "source": [
    "subject.Subject()"
   ]
  },
  {
   "cell_type": "code",
   "execution_count": null,
   "id": "a110dca3-9149-40dd-8776-5b61476ccda1",
   "metadata": {},
   "outputs": [],
   "source": [
    "ephys.EphysRecording()"
   ]
  },
  {
   "cell_type": "code",
   "execution_count": null,
   "id": "9a4ea243",
   "metadata": {},
   "outputs": [],
   "source": [
    "ephys.CuratedClustering.Unit()"
   ]
  },
  {
   "cell_type": "markdown",
   "id": "5ca53cb7",
   "metadata": {},
   "source": [
    "### Fetch data\n",
    "\n",
    "Here, we fetch data from the database and generate a raster plot"
   ]
  },
  {
   "cell_type": "code",
   "execution_count": null,
   "id": "955af65d",
   "metadata": {},
   "outputs": [],
   "source": [
    "subset=ephys.CuratedClustering.Unit & 'unit IN (\"6\",\"7\",\"9\",\"14\",\"15\",\"17\",\"19\")'\n",
    "subset"
   ]
  },
  {
   "cell_type": "markdown",
   "id": "509d5335",
   "metadata": {},
   "source": [
    "Fetch the spike times from the database for the units above."
   ]
  },
  {
   "cell_type": "code",
   "execution_count": null,
   "id": "96c1a6cd",
   "metadata": {},
   "outputs": [],
   "source": [
    "units, unit_spiketimes = (subset).fetch(\"unit\", \"spike_times\")"
   ]
  },
  {
   "cell_type": "markdown",
   "id": "a9bc7039",
   "metadata": {},
   "source": [
    "Generate the raster plot."
   ]
  },
  {
   "cell_type": "code",
   "execution_count": null,
   "id": "a9a2cd6a",
   "metadata": {},
   "outputs": [],
   "source": [
    "x = np.hstack(unit_spiketimes)\n",
    "y = np.hstack([np.full_like(s, u) for u, s in zip(units, unit_spiketimes)])\n",
    "\n",
    "pyplot.plot(x, y, \"|\")\n",
    "pyplot.xlabel(\"Time (s)\")\n",
    "pyplot.ylabel(\"Unit\")"
   ]
  },
  {
   "cell_type": "markdown",
   "id": "68559c95-3c4e-4c6a-acbb-c06796a8399c",
   "metadata": {},
   "source": [
    "### Export to NWB\n",
    "\n",
    "The Element's `ecephys_session_to_nwb` function provides a full export mechanism, returning an NWB file with raw data, spikes, and LFP. Optional arguments determine which pieces are exported. For demonstration purposes, we recommend limiting `end_frame`."
   ]
  },
  {
   "cell_type": "code",
   "execution_count": null,
   "id": "917eff20",
   "metadata": {},
   "outputs": [],
   "source": [
    "from workflow_array_ephys.export import ecephys_session_to_nwb, write_nwb"
   ]
  },
  {
   "cell_type": "code",
   "execution_count": null,
   "id": "6b01dfad",
   "metadata": {},
   "outputs": [],
   "source": [
    "help(ecephys_session_to_nwb)"
   ]
  },
  {
   "cell_type": "markdown",
   "id": "236ab592",
   "metadata": {},
   "source": [
    "Note that a subset of arguments (`lab_key`, `project_key`, and `protocol_key`) take keys from upstream Elements. To populate this information, see [09-NWB-Export](09-NWB-Export.ipynb).\n",
    "\n",
    "Next, select an experimental session to export."
   ]
  },
  {
   "cell_type": "code",
   "execution_count": null,
   "id": "552e03ae",
   "metadata": {},
   "outputs": [],
   "source": [
    "dj.Diagram(subject.Subject) + dj.Diagram(session.Session) + \\\n",
    "dj.Diagram(probe) + dj.Diagram(ephys)"
   ]
  },
  {
   "cell_type": "code",
   "execution_count": null,
   "id": "e7a45887",
   "metadata": {},
   "outputs": [],
   "source": [
    "session_key=dict(subject=\"subject5\",\n",
    "                 session_datetime=\"2018-07-03 20:32:28\")"
   ]
  },
  {
   "cell_type": "markdown",
   "id": "8d6591a6",
   "metadata": {},
   "source": [
    "Return the NWBFile object for the selected experimental session."
   ]
  },
  {
   "cell_type": "code",
   "execution_count": null,
   "id": "5fb498b3",
   "metadata": {},
   "outputs": [],
   "source": [
    "nwbfile = ecephys_session_to_nwb(session_key=session_key,\n",
    "                                 raw=True,\n",
    "                                 spikes=False, # True requires WaveformSet.populate()\n",
    "                                 lfp=\"dj\",\n",
    "                                 end_frame=100,\n",
    "                                 nwbfile_kwargs=None)"
   ]
  },
  {
   "cell_type": "code",
   "execution_count": null,
   "id": "ec0841aa",
   "metadata": {},
   "outputs": [],
   "source": [
    "nwbfile"
   ]
  },
  {
   "cell_type": "markdown",
   "id": "6836ae36",
   "metadata": {},
   "source": [
    "`write_nwb` can then be used to write this file to disk."
   ]
  },
  {
   "cell_type": "code",
   "execution_count": null,
   "id": "637b9ec1",
   "metadata": {},
   "outputs": [],
   "source": [
    "import time\n",
    "nwb_filename = f\"/home/{dj.config['database.user']}/\"+time.strftime(\"_test_%Y%m%d-%H%M%S.nwb\")\n",
    "\n",
    "write_nwb(nwbfile, nwb_filename)"
   ]
  },
  {
   "cell_type": "markdown",
   "id": "42e7664f",
   "metadata": {},
   "source": [
    "Next, the NWB file can be uploaded to DANDI.  See the [09-NWB-Export](09-NWB-Export.ipynb) notebook for more details."
   ]
  },
  {
   "cell_type": "markdown",
   "id": "4c8087a9",
   "metadata": {},
   "source": [
    "## Summary and next steps\n",
    "\n",
    "In this notebook we explored how to query and fetch data from the database, and export an experimental ephys session to a NWB file.  Next, please explore more of the features of the DataJoint Elements in the other notebooks.  Once you are ready to begin setting up your pipeline, fork this repository on GitHub and begin adapting it for your projects requirements."
   ]
  }
 ],
 "metadata": {
  "jupytext": {
   "formats": "ipynb,py"
  },
  "kernelspec": {
   "display_name": "Python 3.9.13 ('ele')",
   "language": "python",
   "name": "python3"
  },
  "language_info": {
   "codemirror_mode": {
    "name": "ipython",
    "version": 3
   },
   "file_extension": ".py",
   "mimetype": "text/x-python",
   "name": "python",
   "nbconvert_exporter": "python",
   "pygments_lexer": "ipython3",
   "version": "3.9.13"
  },
  "vscode": {
   "interpreter": {
    "hash": "d00c4ad21a7027bf1726d6ae3a9a6ef39c8838928eca5a3d5f51f3eb68720410"
   }
  }
 },
 "nbformat": 4,
 "nbformat_minor": 5
}
