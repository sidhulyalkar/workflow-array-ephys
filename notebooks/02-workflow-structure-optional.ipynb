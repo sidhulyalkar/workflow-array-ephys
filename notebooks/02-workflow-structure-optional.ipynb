{
 "cells": [
  {
   "cell_type": "markdown",
   "metadata": {},
   "source": [
    "# Introduction to the workflow structure"
   ]
  },
  {
   "cell_type": "markdown",
   "metadata": {},
   "source": [
    "This notebook gives an overview of the workflow structure and introduces useful DataJoint tools for exploration.\n",
    "+ DataJoint needs to be configured before running this notebook. If you haven't done so, refer to notebook [01-configure](01-configure.ipynb).\n",
    "+ If you are familar with DataJoint workflow structures, proceed to the next notebook [03-process](03-process.ipynb) directly to run this workflow.\n",
    "+ For a more thorough introduction of DataJoint functions, please visit our [general documentation](https://docs.datajoint.org/python/v0.13/index.html)"
   ]
  },
  {
   "cell_type": "markdown",
   "metadata": {},
   "source": [
    "To load the local configuration, we will change the directory to the package root."
   ]
  },
  {
   "cell_type": "code",
   "execution_count": 1,
   "metadata": {},
   "outputs": [],
   "source": [
    "import os\n",
    "if os.path.basename(os.getcwd()) == \"notebooks\":\n",
    "    os.chdir(\"..\")"
   ]
  },
  {
   "cell_type": "markdown",
   "metadata": {},
   "source": [
    "## Schemas, Diagrams and Tables"
   ]
  },
  {
   "cell_type": "markdown",
   "metadata": {},
   "source": [
    "Schemas are conceptually related sets of tables. By importing schemas from `workflow_array_ephys.pipeline`, we'll declare the tables on the server with the prefix in the config (if we have permission to do so). If these tables are already declared, we'll gain access. \n",
    "\n",
    "- `dj.list_schemas()` lists all schemas a user has access to in the current database\n",
    "- `<schema>.schema.list_tables()` will provide names for each table in the format used under the hood."
   ]
  },
  {
   "cell_type": "code",
   "execution_count": 2,
   "metadata": {},
   "outputs": [
    {
     "name": "stderr",
     "output_type": "stream",
     "text": [
      "[2022-09-15 09:10:04,082][INFO]: Connecting cbroz@tutorial-db.datajoint.io:3306\n",
      "[2022-09-15 09:10:04,591][INFO]: Connected cbroz@tutorial-db.datajoint.io:3306\n"
     ]
    }
   ],
   "source": [
    "import datajoint as dj\n",
    "from workflow_array_ephys.pipeline import lab, subject, session, probe, ephys"
   ]
  },
  {
   "cell_type": "code",
   "execution_count": 3,
   "metadata": {},
   "outputs": [
    {
     "data": {
      "text/plain": [
       "Schema `cbroz_probe`"
      ]
     },
     "execution_count": 3,
     "metadata": {},
     "output_type": "execute_result"
    }
   ],
   "source": [
    "probe.schema"
   ]
  },
  {
   "cell_type": "code",
   "execution_count": 4,
   "metadata": {
    "title": "Each module imported above corresponds to one schema inside the database. For example, `ephys` corresponds to `neuro_ephys` schema in the database."
   },
   "outputs": [
    {
     "data": {
      "text/plain": [
       "['#acquisition_software',\n",
       " '#clustering_method',\n",
       " 'probe_insertion',\n",
       " '#cluster_quality_label',\n",
       " '#clustering_param_set',\n",
       " '_ephys_recording',\n",
       " '_ephys_recording__ephys_file',\n",
       " 'insertion_location',\n",
       " '_l_f_p',\n",
       " '_l_f_p__electrode',\n",
       " 'clustering_task',\n",
       " '_clustering',\n",
       " '_curated_clustering',\n",
       " '_curated_clustering__unit',\n",
       " '_waveform_set',\n",
       " '_waveform_set__peak_waveform',\n",
       " '_waveform_set__waveform']"
      ]
     },
     "execution_count": 4,
     "metadata": {},
     "output_type": "execute_result"
    }
   ],
   "source": [
    "ephys.schema.list_tables()"
   ]
  },
  {
   "cell_type": "markdown",
   "metadata": {},
   "source": [
    "`dj.Diagram()` plots tables and dependencies in a schema. To see additional upstream or downstream connections, add `- N` or `+ N`.\n",
    "\n",
    "- `probe`: Neuropixels-based probe information\n",
    "- `ephys`: Electrophysiology data"
   ]
  },
  {
   "cell_type": "code",
   "execution_count": 5,
   "metadata": {
    "title": "`dj.Diagram()`: plot tables and dependencies"
   },
   "outputs": [
    {
     "data": {
      "image/svg+xml": "<svg xmlns=\"http://www.w3.org/2000/svg\" xmlns:xlink=\"http://www.w3.org/1999/xlink\" width=\"384pt\" height=\"169pt\" viewBox=\"0.00 0.00 383.50 169.00\">\n<g id=\"graph0\" class=\"graph\" transform=\"scale(1 1) rotate(0) translate(4 165)\">\n<polygon fill=\"white\" stroke=\"transparent\" points=\"-4,4 -4,-165 379.5,-165 379.5,4 -4,4\"/>\n<!-- probe.ElectrodeConfig -->\n<g id=\"node1\" class=\"node\">\n<title>probe.ElectrodeConfig</title>\n<g id=\"a_node1\"><a xlink:title=\"electrode_config_hash \r------------------------------\r→ probe.ProbeType\relectrode_config_name \r\">\n<polygon fill=\"#000000\" fill-opacity=\"0.125490\" stroke=\"transparent\" points=\"135.5,-90 22.5,-90 22.5,-55 135.5,-55 135.5,-90\"/>\n<text text-anchor=\"start\" x=\"30.5\" y=\"-71\" font-family=\"arial\" text-decoration=\"underline\" font-size=\"10.00\">probe.ElectrodeConfig</text>\n</a>\n</g>\n</g>\n<!-- probe.ElectrodeConfig.Electrode -->\n<g id=\"node3\" class=\"node\">\n<title>probe.ElectrodeConfig.Electrode</title>\n<g id=\"a_node3\"><a xlink:title=\"→ probe.ElectrodeConfig\r→ probe.ProbeType.Electrode\r\">\n<polygon fill=\"transparent\" stroke=\"transparent\" points=\"158,-19 0,-19 0,0 158,0 158,-19\"/>\n<text text-anchor=\"middle\" x=\"79\" y=\"-7\" font-family=\"arial\" font-size=\"10.00\">probe.ElectrodeConfig.Electrode</text>\n</a>\n</g>\n</g>\n<!-- probe.ElectrodeConfig&#45;&gt;probe.ElectrodeConfig.Electrode -->\n<g id=\"edge1\" class=\"edge\">\n<title>probe.ElectrodeConfig-&gt;probe.ElectrodeConfig.Electrode</title>\n<path fill=\"none\" stroke=\"#000000\" stroke-width=\"0.75\" stroke-opacity=\"0.250980\" d=\"M79,-54.83C79,-43.26 79,-28.32 79,-19.08\"/>\n</g>\n<!-- probe.ProbeType.Electrode -->\n<g id=\"node2\" class=\"node\">\n<title>probe.ProbeType.Electrode</title>\n<g id=\"a_node2\"><a xlink:title=\"→ probe.ProbeType\relectrode            \r------------------------------\rshank                \rshank_col            \rshank_row            \rx_coord=null         \ry_coord=null         \r\">\n<polygon fill=\"transparent\" stroke=\"transparent\" points=\"288,-82 154,-82 154,-63 288,-63 288,-82\"/>\n<text text-anchor=\"start\" x=\"162\" y=\"-71\" font-family=\"arial\" text-decoration=\"underline\" font-size=\"10.00\">probe.ProbeType.Electrode</text>\n</a>\n</g>\n</g>\n<!-- probe.ProbeType.Electrode&#45;&gt;probe.ElectrodeConfig.Electrode -->\n<g id=\"edge2\" class=\"edge\">\n<title>probe.ProbeType.Electrode-&gt;probe.ElectrodeConfig.Electrode</title>\n<path fill=\"none\" stroke=\"#000000\" stroke-width=\"0.75\" stroke-opacity=\"0.250980\" d=\"M200.96,-62.89C173.89,-51.26 125.95,-30.67 98.94,-19.07\"/>\n</g>\n<!-- probe.Probe -->\n<g id=\"node4\" class=\"node\">\n<title>probe.Probe</title>\n<g id=\"a_node4\"><a xlink:title=\"probe                \r------------------------------\r→ probe.ProbeType\rprobe_comment=&quot;&quot;     \r\">\n<polygon fill=\"#000000\" fill-opacity=\"0.125490\" stroke=\"transparent\" points=\"375.5,-90 306.5,-90 306.5,-55 375.5,-55 375.5,-90\"/>\n<text text-anchor=\"start\" x=\"314.5\" y=\"-71\" font-family=\"arial\" text-decoration=\"underline\" font-size=\"10.00\">probe.Probe</text>\n</a>\n</g>\n</g>\n<!-- probe.ProbeType -->\n<g id=\"node5\" class=\"node\">\n<title>probe.ProbeType</title>\n<g id=\"a_node5\"><a xlink:title=\"probe_type           \r\">\n<polygon fill=\"#000000\" fill-opacity=\"0.125490\" stroke=\"transparent\" points=\"266,-161 176,-161 176,-126 266,-126 266,-161\"/>\n<text text-anchor=\"start\" x=\"184\" y=\"-142\" font-family=\"arial\" text-decoration=\"underline\" font-size=\"10.00\">probe.ProbeType</text>\n</a>\n</g>\n</g>\n<!-- probe.ProbeType&#45;&gt;probe.ElectrodeConfig -->\n<g id=\"edge3\" class=\"edge\">\n<title>probe.ProbeType-&gt;probe.ElectrodeConfig</title>\n<path fill=\"none\" stroke=\"#000000\" stroke-width=\"0.75\" stroke-dasharray=\"5,2\" stroke-opacity=\"0.250980\" d=\"M186.99,-125.97C164.67,-115.13 135.59,-101 113.23,-90.13\"/>\n</g>\n<!-- probe.ProbeType&#45;&gt;probe.ProbeType.Electrode -->\n<g id=\"edge4\" class=\"edge\">\n<title>probe.ProbeType-&gt;probe.ProbeType.Electrode</title>\n<path fill=\"none\" stroke=\"#000000\" stroke-width=\"0.75\" stroke-opacity=\"0.250980\" d=\"M221,-125.8C221,-112.08 221,-93.19 221,-82.27\"/>\n</g>\n<!-- probe.ProbeType&#45;&gt;probe.Probe -->\n<g id=\"edge5\" class=\"edge\">\n<title>probe.ProbeType-&gt;probe.Probe</title>\n<path fill=\"none\" stroke=\"#000000\" stroke-width=\"0.75\" stroke-dasharray=\"5,2\" stroke-opacity=\"0.250980\" d=\"M249.74,-125.97C268.6,-115.13 293.18,-101 312.08,-90.13\"/>\n</g>\n</g>\n</svg>",
      "text/plain": [
       "<datajoint.diagram.Diagram at 0x1604286d0>"
      ]
     },
     "execution_count": 5,
     "metadata": {},
     "output_type": "execute_result"
    }
   ],
   "source": [
    "# plot diagram for all tables in a schema\n",
    "dj.Diagram(probe)"
   ]
  },
  {
   "cell_type": "code",
   "execution_count": 6,
   "metadata": {},
   "outputs": [
    {
     "name": "stderr",
     "output_type": "stream",
     "text": [
      "/Users/cb/miniforge3/envs/ele/lib/python3.9/inspect.py:351: FutureWarning: pandas.Float64Index is deprecated and will be removed from pandas in a future version. Use pandas.Index with the appropriate dtype instead.\n",
      "  value = getattr(object, key)\n",
      "/Users/cb/miniforge3/envs/ele/lib/python3.9/inspect.py:351: FutureWarning: pandas.Int64Index is deprecated and will be removed from pandas in a future version. Use pandas.Index with the appropriate dtype instead.\n",
      "  value = getattr(object, key)\n",
      "/Users/cb/miniforge3/envs/ele/lib/python3.9/inspect.py:351: FutureWarning: pandas.UInt64Index is deprecated and will be removed from pandas in a future version. Use pandas.Index with the appropriate dtype instead.\n",
      "  value = getattr(object, key)\n",
      "/Users/cb/miniforge3/envs/ele/lib/python3.9/inspect.py:351: FutureWarning: pandas.Float64Index is deprecated and will be removed from pandas in a future version. Use pandas.Index with the appropriate dtype instead.\n",
      "  value = getattr(object, key)\n",
      "/Users/cb/miniforge3/envs/ele/lib/python3.9/inspect.py:351: FutureWarning: pandas.Int64Index is deprecated and will be removed from pandas in a future version. Use pandas.Index with the appropriate dtype instead.\n",
      "  value = getattr(object, key)\n",
      "/Users/cb/miniforge3/envs/ele/lib/python3.9/inspect.py:351: FutureWarning: pandas.UInt64Index is deprecated and will be removed from pandas in a future version. Use pandas.Index with the appropriate dtype instead.\n",
      "  value = getattr(object, key)\n"
     ]
    },
    {
     "data": {
      "image/svg+xml": "<svg xmlns=\"http://www.w3.org/2000/svg\" xmlns:xlink=\"http://www.w3.org/1999/xlink\" width=\"1410pt\" height=\"595pt\" viewBox=\"0.00 0.00 1409.50 595.00\">\n<g id=\"graph0\" class=\"graph\" transform=\"scale(1 1) rotate(0) translate(4 591)\">\n<polygon fill=\"white\" stroke=\"transparent\" points=\"-4,4 -4,-591 1405.5,-591 1405.5,4 -4,4\"/>\n<!-- `cbroz_lab`.`#skull_reference` -->\n<g id=\"node1\" class=\"node\">\n<title>`cbroz_lab`.`#skull_reference`</title>\n<polygon fill=\"#000000\" fill-opacity=\"0.125490\" stroke=\"transparent\" points=\"145,-445 0,-445 0,-410 145,-410 145,-445\"/>\n<text text-anchor=\"start\" x=\"8\" y=\"-426\" font-family=\"arial\" text-decoration=\"underline\" font-size=\"10.00\">`cbroz_lab`.`#skull_reference`</text>\n</g>\n<!-- ephys.InsertionLocation -->\n<g id=\"node18\" class=\"node\">\n<title>ephys.InsertionLocation</title>\n<g id=\"a_node18\"><a xlink:title=\"→ ephys.ProbeInsertion\r------------------------------\r→ `cbroz_lab`.`#skull_reference`\rap_location          \rml_location          \rdepth                \rtheta=null           \rphi=null             \rbeta=null            \r\">\n<polygon fill=\"#00ff00\" fill-opacity=\"0.188235\" stroke=\"#00ff00\" stroke-opacity=\"0.188235\" points=\"189,-374 46,-374 46,-339 189,-339 189,-374\"/>\n<text text-anchor=\"middle\" x=\"117.5\" y=\"-353.4\" font-family=\"arial\" font-size=\"12.00\" fill=\"darkgreen\">ephys.InsertionLocation</text>\n</a>\n</g>\n</g>\n<!-- `cbroz_lab`.`#skull_reference`&#45;&gt;ephys.InsertionLocation -->\n<g id=\"edge1\" class=\"edge\">\n<title>`cbroz_lab`.`#skull_reference`-&gt;ephys.InsertionLocation</title>\n<path fill=\"none\" stroke=\"#000000\" stroke-width=\"0.75\" stroke-dasharray=\"5,2\" stroke-opacity=\"0.250980\" d=\"M83.39,-409.8C90.47,-398.95 99.65,-384.87 106.71,-374.05\"/>\n</g>\n<!-- lab.Project -->\n<g id=\"node2\" class=\"node\">\n<title>lab.Project</title>\n<g id=\"a_node2\"><a xlink:title=\"project              \r------------------------------\rproject_description=&quot;&quot; \r\">\n<polygon fill=\"#000000\" fill-opacity=\"0.125490\" stroke=\"transparent\" points=\"1168,-516 1105,-516 1105,-481 1168,-481 1168,-516\"/>\n<text text-anchor=\"start\" x=\"1113\" y=\"-497\" font-family=\"arial\" text-decoration=\"underline\" font-size=\"10.00\">lab.Project</text>\n</a>\n</g>\n</g>\n<!-- session.ProjectSession -->\n<g id=\"node17\" class=\"node\">\n<title>session.ProjectSession</title>\n<g id=\"a_node17\"><a xlink:title=\"→ lab.Project\r→ session.Session\r\">\n<polygon fill=\"#00ff00\" fill-opacity=\"0.188235\" stroke=\"#00ff00\" stroke-opacity=\"0.188235\" points=\"1207.5,-445 1065.5,-445 1065.5,-410 1207.5,-410 1207.5,-445\"/>\n<text text-anchor=\"middle\" x=\"1136.5\" y=\"-424.4\" font-family=\"arial\" font-size=\"12.00\" fill=\"darkgreen\">session.ProjectSession</text>\n</a>\n</g>\n</g>\n<!-- lab.Project&#45;&gt;session.ProjectSession -->\n<g id=\"edge2\" class=\"edge\">\n<title>lab.Project-&gt;session.ProjectSession</title>\n<path fill=\"none\" stroke=\"#000000\" stroke-width=\"0.75\" stroke-opacity=\"0.250980\" d=\"M1136.5,-480.8C1136.5,-469.95 1136.5,-455.87 1136.5,-445.05\"/>\n</g>\n<!-- ephys.CuratedClustering.Unit -->\n<g id=\"node3\" class=\"node\">\n<title>ephys.CuratedClustering.Unit</title>\n<g id=\"a_node3\"><a xlink:title=\"→ ephys.CuratedClustering\runit                 \r------------------------------\r→ probe.ElectrodeConfig.Electrode\r→ ephys.ClusterQualityLabel\rspike_count          \rspike_times          \rspike_sites          \rspike_depths         \r\">\n<polygon fill=\"transparent\" stroke=\"transparent\" points=\"634.5,-82 488.5,-82 488.5,-63 634.5,-63 634.5,-82\"/>\n<text text-anchor=\"start\" x=\"496.5\" y=\"-71\" font-family=\"arial\" text-decoration=\"underline\" font-size=\"10.00\">ephys.CuratedClustering.Unit</text>\n</a>\n</g>\n</g>\n<!-- ephys.WaveformSet.Waveform -->\n<g id=\"node5\" class=\"node\">\n<title>ephys.WaveformSet.Waveform</title>\n<g id=\"a_node5\"><a xlink:title=\"→ ephys.WaveformSet\r→ ephys.CuratedClustering.Unit\r→ probe.ElectrodeConfig.Electrode\r------------------------------\rwaveform_mean        \rwaveforms=null       \r\">\n<polygon fill=\"transparent\" stroke=\"transparent\" points=\"624.5,-19 472.5,-19 472.5,0 624.5,0 624.5,-19\"/>\n<text text-anchor=\"middle\" x=\"548.5\" y=\"-7\" font-family=\"arial\" font-size=\"10.00\">ephys.WaveformSet.Waveform</text>\n</a>\n</g>\n</g>\n<!-- ephys.CuratedClustering.Unit&#45;&gt;ephys.WaveformSet.Waveform -->\n<g id=\"edge3\" class=\"edge\">\n<title>ephys.CuratedClustering.Unit-&gt;ephys.WaveformSet.Waveform</title>\n<path fill=\"none\" stroke=\"#000000\" stroke-width=\"0.75\" stroke-opacity=\"0.250980\" d=\"M559.64,-62.76C557.17,-51.16 552.83,-30.81 550.36,-19.22\"/>\n</g>\n<!-- ephys.WaveformSet.PeakWaveform -->\n<g id=\"node21\" class=\"node\">\n<title>ephys.WaveformSet.PeakWaveform</title>\n<g id=\"a_node21\"><a xlink:title=\"→ ephys.WaveformSet\r→ ephys.CuratedClustering.Unit\r------------------------------\rpeak_electrode_waveform \r\">\n<polygon fill=\"transparent\" stroke=\"transparent\" points=\"818,-19 643,-19 643,0 818,0 818,-19\"/>\n<text text-anchor=\"middle\" x=\"730.5\" y=\"-7\" font-family=\"arial\" font-size=\"10.00\">ephys.WaveformSet.PeakWaveform</text>\n</a>\n</g>\n</g>\n<!-- ephys.CuratedClustering.Unit&#45;&gt;ephys.WaveformSet.PeakWaveform -->\n<g id=\"edge4\" class=\"edge\">\n<title>ephys.CuratedClustering.Unit-&gt;ephys.WaveformSet.PeakWaveform</title>\n<path fill=\"none\" stroke=\"#000000\" stroke-width=\"2\" stroke-opacity=\"0.250980\" d=\"M585.36,-62.89C617.56,-51.26 674.62,-30.67 706.77,-19.07\"/>\n</g>\n<!-- probe.Probe -->\n<g id=\"node4\" class=\"node\">\n<title>probe.Probe</title>\n<g id=\"a_node4\"><a xlink:title=\"probe                \r------------------------------\r→ probe.ProbeType\rprobe_comment=&quot;&quot;     \r\">\n<polygon fill=\"#000000\" fill-opacity=\"0.125490\" stroke=\"transparent\" points=\"263,-516 194,-516 194,-481 263,-481 263,-516\"/>\n<text text-anchor=\"start\" x=\"202\" y=\"-497\" font-family=\"arial\" text-decoration=\"underline\" font-size=\"10.00\">probe.Probe</text>\n</a>\n</g>\n</g>\n<!-- ephys.ProbeInsertion -->\n<g id=\"node29\" class=\"node\">\n<title>ephys.ProbeInsertion</title>\n<g id=\"a_node29\"><a xlink:title=\"→ session.Session\rinsertion_number     \r------------------------------\r→ probe.Probe\r\">\n<polygon fill=\"#00ff00\" fill-opacity=\"0.188235\" stroke=\"#00ff00\" stroke-opacity=\"0.188235\" points=\"293.5,-445 163.5,-445 163.5,-410 293.5,-410 293.5,-445\"/>\n<text text-anchor=\"start\" x=\"171.5\" y=\"-425.4\" font-family=\"arial\" text-decoration=\"underline\" font-size=\"12.00\" fill=\"darkgreen\">ephys.ProbeInsertion</text>\n</a>\n</g>\n</g>\n<!-- probe.Probe&#45;&gt;ephys.ProbeInsertion -->\n<g id=\"edge5\" class=\"edge\">\n<title>probe.Probe-&gt;ephys.ProbeInsertion</title>\n<path fill=\"none\" stroke=\"#000000\" stroke-width=\"0.75\" stroke-dasharray=\"5,2\" stroke-opacity=\"0.250980\" d=\"M228.5,-480.8C228.5,-469.95 228.5,-455.87 228.5,-445.05\"/>\n</g>\n<!-- ephys.LFP -->\n<g id=\"node6\" class=\"node\">\n<title>ephys.LFP</title>\n<g id=\"a_node6\"><a xlink:title=\"→ ephys.EphysRecording\r------------------------------\rlfp_sampling_rate    \rlfp_time_stamps      \rlfp_mean             \r\">\n<ellipse fill=\"#00007f\" fill-opacity=\"0.250980\" stroke=\"#00007f\" stroke-opacity=\"0.250980\" cx=\"194.5\" cy=\"-285.5\" rx=\"46\" ry=\"17.5\"/>\n<text text-anchor=\"middle\" x=\"194.5\" y=\"-282.4\" font-family=\"arial\" font-size=\"12.00\" fill=\"#00007f\" fill-opacity=\"0.627451\">ephys.LFP</text>\n</a>\n</g>\n</g>\n<!-- ephys.LFP.Electrode -->\n<g id=\"node28\" class=\"node\">\n<title>ephys.LFP.Electrode</title>\n<g id=\"a_node28\"><a xlink:title=\"→ ephys.LFP\r→ probe.ElectrodeConfig.Electrode\r------------------------------\rlfp                  \r\">\n<polygon fill=\"transparent\" stroke=\"transparent\" points=\"248,-224 141,-224 141,-205 248,-205 248,-224\"/>\n<text text-anchor=\"middle\" x=\"194.5\" y=\"-212\" font-family=\"arial\" font-size=\"10.00\">ephys.LFP.Electrode</text>\n</a>\n</g>\n</g>\n<!-- ephys.LFP&#45;&gt;ephys.LFP.Electrode -->\n<g id=\"edge6\" class=\"edge\">\n<title>ephys.LFP-&gt;ephys.LFP.Electrode</title>\n<path fill=\"none\" stroke=\"#000000\" stroke-width=\"0.75\" stroke-opacity=\"0.250980\" d=\"M194.5,-267.8C194.5,-254.08 194.5,-235.19 194.5,-224.27\"/>\n</g>\n<!-- probe.ElectrodeConfig.Electrode -->\n<g id=\"node7\" class=\"node\">\n<title>probe.ElectrodeConfig.Electrode</title>\n<g id=\"a_node7\"><a xlink:title=\"→ probe.ElectrodeConfig\r→ probe.ProbeType.Electrode\r\">\n<polygon fill=\"transparent\" stroke=\"transparent\" points=\"598.5,-295 440.5,-295 440.5,-276 598.5,-276 598.5,-295\"/>\n<text text-anchor=\"middle\" x=\"519.5\" y=\"-283\" font-family=\"arial\" font-size=\"10.00\">probe.ElectrodeConfig.Electrode</text>\n</a>\n</g>\n</g>\n<!-- probe.ElectrodeConfig.Electrode&#45;&gt;ephys.CuratedClustering.Unit -->\n<g id=\"edge7\" class=\"edge\">\n<title>probe.ElectrodeConfig.Electrode-&gt;ephys.CuratedClustering.Unit</title>\n<path fill=\"none\" stroke=\"#000000\" stroke-width=\"0.75\" stroke-dasharray=\"5,2\" stroke-opacity=\"0.250980\" d=\"M521.2,-275.97C527.95,-242.04 552.86,-116.9 559.73,-82.37\"/>\n</g>\n<!-- probe.ElectrodeConfig.Electrode&#45;&gt;ephys.WaveformSet.Waveform -->\n<g id=\"edge8\" class=\"edge\">\n<title>probe.ElectrodeConfig.Electrode-&gt;ephys.WaveformSet.Waveform</title>\n<path fill=\"none\" stroke=\"#000000\" stroke-width=\"0.75\" stroke-opacity=\"0.250980\" d=\"M502.7,-275.91C461.59,-253.66 361.5,-191.3 392.5,-126 419.3,-69.53 489.17,-34.25 525.62,-19.11\"/>\n</g>\n<!-- probe.ElectrodeConfig.Electrode&#45;&gt;ephys.LFP.Electrode -->\n<g id=\"edge9\" class=\"edge\">\n<title>probe.ElectrodeConfig.Electrode-&gt;ephys.LFP.Electrode</title>\n<path fill=\"none\" stroke=\"#000000\" stroke-width=\"0.75\" stroke-opacity=\"0.250980\" d=\"M479.32,-275.97C416.82,-262.7 297.03,-237.27 234.59,-224.01\"/>\n</g>\n<!-- ephys.ClusteringMethod -->\n<g id=\"node8\" class=\"node\">\n<title>ephys.ClusteringMethod</title>\n<g id=\"a_node8\"><a xlink:title=\"clustering_method    \r------------------------------\rclustering_method_desc \r\">\n<polygon fill=\"#000000\" fill-opacity=\"0.125490\" stroke=\"transparent\" points=\"729.5,-445 607.5,-445 607.5,-410 729.5,-410 729.5,-445\"/>\n<text text-anchor=\"start\" x=\"615.5\" y=\"-426\" font-family=\"arial\" text-decoration=\"underline\" font-size=\"10.00\">ephys.ClusteringMethod</text>\n</a>\n</g>\n</g>\n<!-- ephys.ClusteringParamSet -->\n<g id=\"node23\" class=\"node\">\n<title>ephys.ClusteringParamSet</title>\n<g id=\"a_node23\"><a xlink:title=\"paramset_idx         \r------------------------------\r→ ephys.ClusteringMethod\rparamset_desc        \rparam_set_hash       \rparams               \rUNIQUE INDEX (param_set_hash)\r\">\n<polygon fill=\"#000000\" fill-opacity=\"0.125490\" stroke=\"transparent\" points=\"742.5,-374 608.5,-374 608.5,-339 742.5,-339 742.5,-374\"/>\n<text text-anchor=\"start\" x=\"616.5\" y=\"-355\" font-family=\"arial\" text-decoration=\"underline\" font-size=\"10.00\">ephys.ClusteringParamSet</text>\n</a>\n</g>\n</g>\n<!-- ephys.ClusteringMethod&#45;&gt;ephys.ClusteringParamSet -->\n<g id=\"edge10\" class=\"edge\">\n<title>ephys.ClusteringMethod-&gt;ephys.ClusteringParamSet</title>\n<path fill=\"none\" stroke=\"#000000\" stroke-width=\"0.75\" stroke-dasharray=\"5,2\" stroke-opacity=\"0.250980\" d=\"M670.19,-409.8C671.3,-398.95 672.72,-384.87 673.82,-374.05\"/>\n</g>\n<!-- subject.Subject -->\n<g id=\"node9\" class=\"node\">\n<title>subject.Subject</title>\n<g id=\"a_node9\"><a xlink:title=\"subject              \r------------------------------\rsex                  \rsubject_birth_date   \rsubject_description=&quot;&quot; \r\">\n<polygon fill=\"#00ff00\" fill-opacity=\"0.188235\" stroke=\"#00ff00\" stroke-opacity=\"0.188235\" points=\"1020.5,-587 922.5,-587 922.5,-552 1020.5,-552 1020.5,-587\"/>\n<text text-anchor=\"start\" x=\"930.5\" y=\"-567.4\" font-family=\"arial\" text-decoration=\"underline\" font-size=\"12.00\" fill=\"darkgreen\">subject.Subject</text>\n</a>\n</g>\n</g>\n<!-- session.Session -->\n<g id=\"node10\" class=\"node\">\n<title>session.Session</title>\n<g id=\"a_node10\"><a xlink:title=\"→ subject.Subject\rsession_datetime     \r\">\n<polygon fill=\"#00ff00\" fill-opacity=\"0.188235\" stroke=\"#00ff00\" stroke-opacity=\"0.188235\" points=\"1023.5,-516 919.5,-516 919.5,-481 1023.5,-481 1023.5,-516\"/>\n<text text-anchor=\"start\" x=\"927.5\" y=\"-496.4\" font-family=\"arial\" text-decoration=\"underline\" font-size=\"12.00\" fill=\"darkgreen\">session.Session</text>\n</a>\n</g>\n</g>\n<!-- subject.Subject&#45;&gt;session.Session -->\n<g id=\"edge11\" class=\"edge\">\n<title>subject.Subject-&gt;session.Session</title>\n<path fill=\"none\" stroke=\"#000000\" stroke-width=\"0.75\" stroke-opacity=\"0.250980\" d=\"M971.5,-551.8C971.5,-540.95 971.5,-526.87 971.5,-516.05\"/>\n</g>\n<!-- session.SessionDirectory -->\n<g id=\"node11\" class=\"node\">\n<title>session.SessionDirectory</title>\n<g id=\"a_node11\"><a xlink:title=\"→ session.Session\r------------------------------\rsession_dir          \r\">\n<polygon fill=\"#00ff00\" fill-opacity=\"0.188235\" stroke=\"#00ff00\" stroke-opacity=\"0.188235\" points=\"1047.5,-445 895.5,-445 895.5,-410 1047.5,-410 1047.5,-445\"/>\n<text text-anchor=\"middle\" x=\"971.5\" y=\"-424.4\" font-family=\"arial\" font-size=\"12.00\" fill=\"darkgreen\">session.SessionDirectory</text>\n</a>\n</g>\n</g>\n<!-- session.Session&#45;&gt;session.SessionDirectory -->\n<g id=\"edge12\" class=\"edge\">\n<title>session.Session-&gt;session.SessionDirectory</title>\n<path fill=\"none\" stroke=\"#000000\" stroke-width=\"2\" stroke-opacity=\"0.250980\" d=\"M971.5,-480.8C971.5,-469.95 971.5,-455.87 971.5,-445.05\"/>\n</g>\n<!-- session.Session&#45;&gt;session.ProjectSession -->\n<g id=\"edge13\" class=\"edge\">\n<title>session.Session-&gt;session.ProjectSession</title>\n<path fill=\"none\" stroke=\"#000000\" stroke-width=\"0.75\" stroke-opacity=\"0.250980\" d=\"M1011.02,-480.97C1037.05,-470.09 1071,-455.89 1097.02,-445.01\"/>\n</g>\n<!-- session.SessionExperimenter -->\n<g id=\"node24\" class=\"node\">\n<title>session.SessionExperimenter</title>\n<g id=\"a_node24\"><a xlink:title=\"→ session.Session\r→ lab.User\r\">\n<polygon fill=\"#00ff00\" fill-opacity=\"0.188235\" stroke=\"#00ff00\" stroke-opacity=\"0.188235\" points=\"1401.5,-445 1225.5,-445 1225.5,-410 1401.5,-410 1401.5,-445\"/>\n<text text-anchor=\"middle\" x=\"1313.5\" y=\"-424.4\" font-family=\"arial\" font-size=\"12.00\" fill=\"darkgreen\">session.SessionExperimenter</text>\n</a>\n</g>\n</g>\n<!-- session.Session&#45;&gt;session.SessionExperimenter -->\n<g id=\"edge14\" class=\"edge\">\n<title>session.Session-&gt;session.SessionExperimenter</title>\n<path fill=\"none\" stroke=\"#000000\" stroke-width=\"0.75\" stroke-opacity=\"0.250980\" d=\"M1023.81,-486.95C1079.11,-475.79 1167.07,-458.04 1231.57,-445.03\"/>\n</g>\n<!-- session.SessionNote -->\n<g id=\"node25\" class=\"node\">\n<title>session.SessionNote</title>\n<g id=\"a_node25\"><a xlink:title=\"→ session.Session\r------------------------------\rsession_note         \r\">\n<polygon fill=\"#00ff00\" fill-opacity=\"0.188235\" stroke=\"#00ff00\" stroke-opacity=\"0.188235\" points=\"877.5,-445 747.5,-445 747.5,-410 877.5,-410 877.5,-445\"/>\n<text text-anchor=\"middle\" x=\"812.5\" y=\"-424.4\" font-family=\"arial\" font-size=\"12.00\" fill=\"darkgreen\">session.SessionNote</text>\n</a>\n</g>\n</g>\n<!-- session.Session&#45;&gt;session.SessionNote -->\n<g id=\"edge15\" class=\"edge\">\n<title>session.Session-&gt;session.SessionNote</title>\n<path fill=\"none\" stroke=\"#000000\" stroke-width=\"2\" stroke-opacity=\"0.250980\" d=\"M933.42,-480.97C908.33,-470.09 875.62,-455.89 850.55,-445.01\"/>\n</g>\n<!-- session.Session&#45;&gt;ephys.ProbeInsertion -->\n<g id=\"edge16\" class=\"edge\">\n<title>session.Session-&gt;ephys.ProbeInsertion</title>\n<path fill=\"none\" stroke=\"#000000\" stroke-width=\"0.75\" stroke-opacity=\"0.250980\" d=\"M919.17,-495.9C806.07,-491.91 530.63,-479.21 302.5,-445 299.64,-444.57 296.72,-444.09 293.78,-443.58\"/>\n</g>\n<!-- ephys.ClusteringTask -->\n<g id=\"node12\" class=\"node\">\n<title>ephys.ClusteringTask</title>\n<g id=\"a_node12\"><a xlink:title=\"→ ephys.EphysRecording\r→ ephys.ClusteringParamSet\r------------------------------\rclustering_output_dir=&quot;&quot; \rtask_mode=&quot;load&quot;     \r\">\n<polygon fill=\"#00ff00\" fill-opacity=\"0.188235\" stroke=\"#00ff00\" stroke-opacity=\"0.188235\" points=\"748,-303 617,-303 617,-268 748,-268 748,-303\"/>\n<text text-anchor=\"middle\" x=\"682.5\" y=\"-282.4\" font-family=\"arial\" font-size=\"12.00\" fill=\"darkgreen\">ephys.ClusteringTask</text>\n</a>\n</g>\n</g>\n<!-- ephys.Clustering -->\n<g id=\"node15\" class=\"node\">\n<title>ephys.Clustering</title>\n<g id=\"a_node15\"><a xlink:title=\"→ ephys.ClusteringTask\r------------------------------\rclustering_time      \rpackage_version=&quot;&quot;   \r\">\n<ellipse fill=\"#00007f\" fill-opacity=\"0.250980\" stroke=\"#00007f\" stroke-opacity=\"0.250980\" cx=\"682.5\" cy=\"-214.5\" rx=\"66.75\" ry=\"17.5\"/>\n<text text-anchor=\"middle\" x=\"682.5\" y=\"-211.4\" font-family=\"arial\" font-size=\"12.00\" fill=\"#00007f\" fill-opacity=\"0.627451\">ephys.Clustering</text>\n</a>\n</g>\n</g>\n<!-- ephys.ClusteringTask&#45;&gt;ephys.Clustering -->\n<g id=\"edge17\" class=\"edge\">\n<title>ephys.ClusteringTask-&gt;ephys.Clustering</title>\n<path fill=\"none\" stroke=\"#000000\" stroke-width=\"2\" stroke-opacity=\"0.250980\" d=\"M682.5,-267.8C682.5,-256.95 682.5,-242.87 682.5,-232.05\"/>\n</g>\n<!-- ephys.WaveformSet -->\n<g id=\"node13\" class=\"node\">\n<title>ephys.WaveformSet</title>\n<g id=\"a_node13\"><a xlink:title=\"→ ephys.CuratedClustering\r\">\n<ellipse fill=\"#00007f\" fill-opacity=\"0.250980\" stroke=\"#00007f\" stroke-opacity=\"0.250980\" cx=\"730.5\" cy=\"-72.5\" rx=\"77.5\" ry=\"17.5\"/>\n<text text-anchor=\"middle\" x=\"730.5\" y=\"-69.4\" font-family=\"arial\" font-size=\"12.00\" fill=\"#00007f\" fill-opacity=\"0.627451\">ephys.WaveformSet</text>\n</a>\n</g>\n</g>\n<!-- ephys.WaveformSet&#45;&gt;ephys.WaveformSet.Waveform -->\n<g id=\"edge18\" class=\"edge\">\n<title>ephys.WaveformSet-&gt;ephys.WaveformSet.Waveform</title>\n<path fill=\"none\" stroke=\"#000000\" stroke-width=\"0.75\" stroke-opacity=\"0.250980\" d=\"M689.2,-57.66C653.75,-45.78 603.79,-29.03 573.92,-19.02\"/>\n</g>\n<!-- ephys.WaveformSet&#45;&gt;ephys.WaveformSet.PeakWaveform -->\n<g id=\"edge19\" class=\"edge\">\n<title>ephys.WaveformSet-&gt;ephys.WaveformSet.PeakWaveform</title>\n<path fill=\"none\" stroke=\"#000000\" stroke-width=\"0.75\" stroke-opacity=\"0.250980\" d=\"M730.5,-54.83C730.5,-43.26 730.5,-28.32 730.5,-19.08\"/>\n</g>\n<!-- ephys.EphysRecording -->\n<g id=\"node14\" class=\"node\">\n<title>ephys.EphysRecording</title>\n<g id=\"a_node14\"><a xlink:title=\"→ ephys.ProbeInsertion\r------------------------------\r→ probe.ElectrodeConfig\r→ ephys.AcquisitionSoftware\rsampling_rate        \rrecording_datetime   \rrecording_duration   \r\">\n<ellipse fill=\"#00007f\" fill-opacity=\"0.250980\" stroke=\"#00007f\" stroke-opacity=\"0.250980\" cx=\"340.5\" cy=\"-356.5\" rx=\"88.25\" ry=\"17.5\"/>\n<text text-anchor=\"middle\" x=\"340.5\" y=\"-353.4\" font-family=\"arial\" font-size=\"12.00\" fill=\"#00007f\" fill-opacity=\"0.627451\">ephys.EphysRecording</text>\n</a>\n</g>\n</g>\n<!-- ephys.EphysRecording&#45;&gt;ephys.LFP -->\n<g id=\"edge20\" class=\"edge\">\n<title>ephys.EphysRecording-&gt;ephys.LFP</title>\n<path fill=\"none\" stroke=\"#000000\" stroke-width=\"2\" stroke-opacity=\"0.250980\" d=\"M308.1,-340.19C282.39,-328.04 246.84,-311.23 222.39,-299.68\"/>\n</g>\n<!-- ephys.EphysRecording&#45;&gt;ephys.ClusteringTask -->\n<g id=\"edge21\" class=\"edge\">\n<title>ephys.EphysRecording-&gt;ephys.ClusteringTask</title>\n<path fill=\"none\" stroke=\"#000000\" stroke-width=\"0.75\" stroke-opacity=\"0.250980\" d=\"M401.82,-343.85C455.99,-333.46 537.09,-317.67 607.5,-303 610.5,-302.37 613.57,-301.73 616.67,-301.07\"/>\n</g>\n<!-- ephys.EphysRecording.EphysFile -->\n<g id=\"node19\" class=\"node\">\n<title>ephys.EphysRecording.EphysFile</title>\n<g id=\"a_node19\"><a xlink:title=\"→ ephys.EphysRecording\rfile_path            \r\">\n<polygon fill=\"transparent\" stroke=\"transparent\" points=\"422.5,-295 258.5,-295 258.5,-276 422.5,-276 422.5,-295\"/>\n<text text-anchor=\"start\" x=\"266.5\" y=\"-284\" font-family=\"arial\" text-decoration=\"underline\" font-size=\"10.00\">ephys.EphysRecording.EphysFile</text>\n</a>\n</g>\n</g>\n<!-- ephys.EphysRecording&#45;&gt;ephys.EphysRecording.EphysFile -->\n<g id=\"edge22\" class=\"edge\">\n<title>ephys.EphysRecording-&gt;ephys.EphysRecording.EphysFile</title>\n<path fill=\"none\" stroke=\"#000000\" stroke-width=\"0.75\" stroke-opacity=\"0.250980\" d=\"M340.5,-338.8C340.5,-325.08 340.5,-306.19 340.5,-295.27\"/>\n</g>\n<!-- ephys.CuratedClustering -->\n<g id=\"node22\" class=\"node\">\n<title>ephys.CuratedClustering</title>\n<g id=\"a_node22\"><a xlink:title=\"→ ephys.Clustering\r\">\n<ellipse fill=\"#00007f\" fill-opacity=\"0.250980\" stroke=\"#00007f\" stroke-opacity=\"0.250980\" cx=\"682.5\" cy=\"-143.5\" rx=\"93.25\" ry=\"17.5\"/>\n<text text-anchor=\"middle\" x=\"682.5\" y=\"-140.4\" font-family=\"arial\" font-size=\"12.00\" fill=\"#00007f\" fill-opacity=\"0.627451\">ephys.CuratedClustering</text>\n</a>\n</g>\n</g>\n<!-- ephys.Clustering&#45;&gt;ephys.CuratedClustering -->\n<g id=\"edge23\" class=\"edge\">\n<title>ephys.Clustering-&gt;ephys.CuratedClustering</title>\n<path fill=\"none\" stroke=\"#000000\" stroke-width=\"2\" stroke-opacity=\"0.250980\" d=\"M682.5,-196.8C682.5,-185.95 682.5,-171.87 682.5,-161.05\"/>\n</g>\n<!-- ephys.AcquisitionSoftware -->\n<g id=\"node16\" class=\"node\">\n<title>ephys.AcquisitionSoftware</title>\n<g id=\"a_node16\"><a xlink:title=\"acq_software         \r\">\n<polygon fill=\"#000000\" fill-opacity=\"0.125490\" stroke=\"transparent\" points=\"445,-445 312,-445 312,-410 445,-410 445,-445\"/>\n<text text-anchor=\"start\" x=\"320\" y=\"-426\" font-family=\"arial\" text-decoration=\"underline\" font-size=\"10.00\">ephys.AcquisitionSoftware</text>\n</a>\n</g>\n</g>\n<!-- ephys.AcquisitionSoftware&#45;&gt;ephys.EphysRecording -->\n<g id=\"edge24\" class=\"edge\">\n<title>ephys.AcquisitionSoftware-&gt;ephys.EphysRecording</title>\n<path fill=\"none\" stroke=\"#000000\" stroke-width=\"0.75\" stroke-dasharray=\"5,2\" stroke-opacity=\"0.250980\" d=\"M369.3,-409.8C363.33,-398.95 355.57,-384.87 349.61,-374.05\"/>\n</g>\n<!-- probe.ElectrodeConfig -->\n<g id=\"node20\" class=\"node\">\n<title>probe.ElectrodeConfig</title>\n<g id=\"a_node20\"><a xlink:title=\"electrode_config_hash \r------------------------------\r→ probe.ProbeType\relectrode_config_name \r\">\n<polygon fill=\"#000000\" fill-opacity=\"0.125490\" stroke=\"transparent\" points=\"576,-445 463,-445 463,-410 576,-410 576,-445\"/>\n<text text-anchor=\"start\" x=\"471\" y=\"-426\" font-family=\"arial\" text-decoration=\"underline\" font-size=\"10.00\">probe.ElectrodeConfig</text>\n</a>\n</g>\n</g>\n<!-- probe.ElectrodeConfig&#45;&gt;probe.ElectrodeConfig.Electrode -->\n<g id=\"edge25\" class=\"edge\">\n<title>probe.ElectrodeConfig-&gt;probe.ElectrodeConfig.Electrode</title>\n<path fill=\"none\" stroke=\"#000000\" stroke-width=\"0.75\" stroke-opacity=\"0.250980\" d=\"M519.5,-409.89C519.5,-379.9 519.5,-317.74 519.5,-295.04\"/>\n</g>\n<!-- probe.ElectrodeConfig&#45;&gt;ephys.EphysRecording -->\n<g id=\"edge26\" class=\"edge\">\n<title>probe.ElectrodeConfig-&gt;ephys.EphysRecording</title>\n<path fill=\"none\" stroke=\"#000000\" stroke-width=\"0.75\" stroke-dasharray=\"5,2\" stroke-opacity=\"0.250980\" d=\"M476.63,-409.97C446.94,-398.53 407.76,-383.43 379.06,-372.36\"/>\n</g>\n<!-- ephys.CuratedClustering&#45;&gt;ephys.CuratedClustering.Unit -->\n<g id=\"edge27\" class=\"edge\">\n<title>ephys.CuratedClustering-&gt;ephys.CuratedClustering.Unit</title>\n<path fill=\"none\" stroke=\"#000000\" stroke-width=\"0.75\" stroke-opacity=\"0.250980\" d=\"M654.74,-126.67C630.46,-112.82 596.11,-93.24 576.6,-82.11\"/>\n</g>\n<!-- ephys.CuratedClustering&#45;&gt;ephys.WaveformSet -->\n<g id=\"edge28\" class=\"edge\">\n<title>ephys.CuratedClustering-&gt;ephys.WaveformSet</title>\n<path fill=\"none\" stroke=\"#000000\" stroke-width=\"2\" stroke-opacity=\"0.250980\" d=\"M694.12,-125.8C701.67,-114.95 711.46,-100.87 718.99,-90.05\"/>\n</g>\n<!-- ephys.ClusteringParamSet&#45;&gt;ephys.ClusteringTask -->\n<g id=\"edge29\" class=\"edge\">\n<title>ephys.ClusteringParamSet-&gt;ephys.ClusteringTask</title>\n<path fill=\"none\" stroke=\"#000000\" stroke-width=\"0.75\" stroke-opacity=\"0.250980\" d=\"M677.19,-338.8C678.3,-327.95 679.72,-313.87 680.82,-303.05\"/>\n</g>\n<!-- lab.User -->\n<g id=\"node26\" class=\"node\">\n<title>lab.User</title>\n<g id=\"a_node26\"><a xlink:title=\"user                 \r------------------------------\ruser_email=&quot;&quot;        \ruser_cellphone=&quot;&quot;    \r\">\n<polygon fill=\"#000000\" fill-opacity=\"0.125490\" stroke=\"transparent\" points=\"1340,-516 1287,-516 1287,-481 1340,-481 1340,-516\"/>\n<text text-anchor=\"start\" x=\"1295\" y=\"-497\" font-family=\"arial\" text-decoration=\"underline\" font-size=\"10.00\">lab.User</text>\n</a>\n</g>\n</g>\n<!-- lab.User&#45;&gt;session.SessionExperimenter -->\n<g id=\"edge30\" class=\"edge\">\n<title>lab.User-&gt;session.SessionExperimenter</title>\n<path fill=\"none\" stroke=\"#000000\" stroke-width=\"0.75\" stroke-opacity=\"0.250980\" d=\"M1313.5,-480.8C1313.5,-469.95 1313.5,-455.87 1313.5,-445.05\"/>\n</g>\n<!-- ephys.ClusterQualityLabel -->\n<g id=\"node27\" class=\"node\">\n<title>ephys.ClusterQualityLabel</title>\n<g id=\"a_node27\"><a xlink:title=\"cluster_quality_label \r------------------------------\rcluster_quality_description \r\">\n<polygon fill=\"#000000\" fill-opacity=\"0.125490\" stroke=\"transparent\" points=\"533,-161 402,-161 402,-126 533,-126 533,-161\"/>\n<text text-anchor=\"start\" x=\"410\" y=\"-142\" font-family=\"arial\" text-decoration=\"underline\" font-size=\"10.00\">ephys.ClusterQualityLabel</text>\n</a>\n</g>\n</g>\n<!-- ephys.ClusterQualityLabel&#45;&gt;ephys.CuratedClustering.Unit -->\n<g id=\"edge31\" class=\"edge\">\n<title>ephys.ClusterQualityLabel-&gt;ephys.CuratedClustering.Unit</title>\n<path fill=\"none\" stroke=\"#000000\" stroke-width=\"0.75\" stroke-dasharray=\"5,2\" stroke-opacity=\"0.250980\" d=\"M490.25,-125.8C509.05,-112 534.98,-92.97 549.82,-82.08\"/>\n</g>\n<!-- ephys.ProbeInsertion&#45;&gt;ephys.EphysRecording -->\n<g id=\"edge32\" class=\"edge\">\n<title>ephys.ProbeInsertion-&gt;ephys.EphysRecording</title>\n<path fill=\"none\" stroke=\"#000000\" stroke-width=\"2\" stroke-opacity=\"0.250980\" d=\"M255.33,-409.97C273.32,-398.89 296.88,-384.37 314.66,-373.42\"/>\n</g>\n<!-- ephys.ProbeInsertion&#45;&gt;ephys.InsertionLocation -->\n<g id=\"edge33\" class=\"edge\">\n<title>ephys.ProbeInsertion-&gt;ephys.InsertionLocation</title>\n<path fill=\"none\" stroke=\"#000000\" stroke-width=\"2\" stroke-opacity=\"0.250980\" d=\"M201.91,-409.97C184.47,-399.13 161.73,-385 144.26,-374.13\"/>\n</g>\n</g>\n</svg>",
      "text/plain": [
       "<datajoint.diagram.Diagram at 0x108371d60>"
      ]
     },
     "execution_count": 6,
     "metadata": {},
     "output_type": "execute_result"
    }
   ],
   "source": [
    "dj.Diagram(ephys) + dj.Diagram(session) - 1"
   ]
  },
  {
   "cell_type": "markdown",
   "metadata": {},
   "source": [
    "### Table Types\n",
    "\n",
    "- **Manual table**: green box, manually inserted table, expect new entries daily, e.g. Subject, ProbeInsertion.  \n",
    "- **Lookup table**: gray box, pre inserted table, commonly used for general facts or parameters. e.g. Strain, ClusteringMethod, ClusteringParamSet.  \n",
    "- **Imported table**: blue oval, auto-processing table, the processing depends on the importing of external files. e.g. process of Clustering requires output files from kilosort2.  \n",
    "- **Computed table**: red circle, auto-processing table, the processing does not depend on files external to the database, commonly used for     \n",
    "- **Part table**: plain text, as an appendix to the master table, all the part entries of a given master entry represent a intact set of the master entry. e.g. Unit of a CuratedClustering.\n",
    "\n",
    "### Table Links\n",
    "\n",
    "- **One-to-one primary**: thick solid line, share the exact same primary key, meaning the child table inherits all the primary key fields from the parent table as its own primary key.     \n",
    "- **One-to-many primary**: thin solid line, inherit the primary key from the parent table, but have additional field(s) as part of the primary key as well\n",
    "- **Secondary dependency**: dashed line, the child table inherits the primary key fields from parent table as its own secondary attribute."
   ]
  },
  {
   "cell_type": "markdown",
   "metadata": {},
   "source": [
    "## Common Table Functions"
   ]
  },
  {
   "cell_type": "markdown",
   "metadata": {},
   "source": [
    "\n",
    "- `<table>()` show table contents\n",
    "- `heading` shows attribute definitions\n",
    "- `describe()` show table definition with foreign key references"
   ]
  },
  {
   "cell_type": "code",
   "execution_count": 7,
   "metadata": {
    "title": "Each datajoint table class inside the module corresponds to a table inside the schema. For example, the class `ephys.EphysRecording` correponds to the table `_ephys_recording` in the schema `neuro_ephys` in the database."
   },
   "outputs": [
    {
     "data": {
      "text/html": [
       "\n",
       "    \n",
       "    <style type=\"text/css\">\n",
       "        .Relation{\n",
       "            border-collapse:collapse;\n",
       "        }\n",
       "        .Relation th{\n",
       "            background: #A0A0A0; color: #ffffff; padding:4px; border:#f0e0e0 1px solid;\n",
       "            font-weight: normal; font-family: monospace; font-size: 100%;\n",
       "        }\n",
       "        .Relation td{\n",
       "            padding:4px; border:#f0e0e0 1px solid; font-size:100%;\n",
       "        }\n",
       "        .Relation tr:nth-child(odd){\n",
       "            background: #ffffff;\n",
       "        }\n",
       "        .Relation tr:nth-child(even){\n",
       "            background: #f3f1ff;\n",
       "        }\n",
       "        /* Tooltip container */\n",
       "        .djtooltip {\n",
       "        }\n",
       "        /* Tooltip text */\n",
       "        .djtooltip .djtooltiptext {\n",
       "            visibility: hidden;\n",
       "            width: 120px;\n",
       "            background-color: black;\n",
       "            color: #fff;\n",
       "            text-align: center;\n",
       "            padding: 5px 0;\n",
       "            border-radius: 6px;\n",
       "            /* Position the tooltip text - see examples below! */\n",
       "            position: absolute;\n",
       "            z-index: 1;\n",
       "        }\n",
       "        #primary {\n",
       "            font-weight: bold;\n",
       "            color: black;\n",
       "        }\n",
       "        #nonprimary {\n",
       "            font-weight: normal;\n",
       "            color: white;\n",
       "        }\n",
       "\n",
       "        /* Show the tooltip text when you mouse over the tooltip container */\n",
       "        .djtooltip:hover .djtooltiptext {\n",
       "            visibility: visible;\n",
       "        }\n",
       "    </style>\n",
       "    \n",
       "    <b>Ephys recording from a probe insertion for a given session.</b>\n",
       "        <div style=\"max-height:1000px;max-width:1500px;overflow:auto;\">\n",
       "        <table border=\"1\" class=\"Relation\">\n",
       "            <thead> <tr style=\"text-align: right;\"> <th> <div class=\"djtooltip\">\n",
       "                            <p id=\"primary\">subject</p>\n",
       "                            <span class=\"djtooltiptext\"></span>\n",
       "                        </div></th><th><div class=\"djtooltip\">\n",
       "                            <p id=\"primary\">session_datetime</p>\n",
       "                            <span class=\"djtooltiptext\"></span>\n",
       "                        </div></th><th><div class=\"djtooltip\">\n",
       "                            <p id=\"primary\">insertion_number</p>\n",
       "                            <span class=\"djtooltiptext\"></span>\n",
       "                        </div></th><th><div class=\"djtooltip\">\n",
       "                            <p id=\"nonprimary\">electrode_config_hash</p>\n",
       "                            <span class=\"djtooltiptext\"></span>\n",
       "                        </div></th><th><div class=\"djtooltip\">\n",
       "                            <p id=\"nonprimary\">acq_software</p>\n",
       "                            <span class=\"djtooltiptext\"></span>\n",
       "                        </div></th><th><div class=\"djtooltip\">\n",
       "                            <p id=\"nonprimary\">sampling_rate</p>\n",
       "                            <span class=\"djtooltiptext\">(Hz)</span>\n",
       "                        </div></th><th><div class=\"djtooltip\">\n",
       "                            <p id=\"nonprimary\">recording_datetime</p>\n",
       "                            <span class=\"djtooltiptext\">datetime of the recording from this probe</span>\n",
       "                        </div></th><th><div class=\"djtooltip\">\n",
       "                            <p id=\"nonprimary\">recording_duration</p>\n",
       "                            <span class=\"djtooltiptext\">(seconds) duration of the recording from this probe</span>\n",
       "                        </div> </th> </tr> </thead>\n",
       "            <tbody> <tr> <td>subject6</td>\n",
       "<td>2021-01-15 11:16:38</td>\n",
       "<td>0</td>\n",
       "<td>6f6d8149-1603-9d2c-f884-0fdf995ec8b3</td>\n",
       "<td>SpikeGLX</td>\n",
       "<td>30000.6</td>\n",
       "<td>2021-01-15 11:16:38</td>\n",
       "<td>1907.94</td> </tr> </tbody>\n",
       "        </table>\n",
       "        \n",
       "        <p>Total: 1</p></div>\n",
       "        "
      ],
      "text/plain": [
       "*subject     *session_datet *insertion_num electrode_conf acq_software   sampling_rate  recording_date recording_dura\n",
       "+----------+ +------------+ +------------+ +------------+ +------------+ +------------+ +------------+ +------------+\n",
       "subject6     2021-01-15 11: 0              6f6d8149-1603- SpikeGLX       30000.6        2021-01-15 11: 1907.94       \n",
       " (Total: 1)"
      ]
     },
     "execution_count": 7,
     "metadata": {},
     "output_type": "execute_result"
    }
   ],
   "source": [
    "# preview table columns and contents in a table\n",
    "ephys.EphysRecording()"
   ]
  },
  {
   "cell_type": "code",
   "execution_count": 8,
   "metadata": {},
   "outputs": [
    {
     "data": {
      "text/plain": [
       "# Clustering Procedure\n",
       "subject              : varchar(8)                   # \n",
       "session_datetime     : datetime                     # \n",
       "insertion_number     : tinyint unsigned             # \n",
       "paramset_idx         : smallint                     # \n",
       "---\n",
       "clustering_time      : datetime                     # time of generation of this set of clustering results\n",
       "package_version=\"\"   : varchar(16)                  # "
      ]
     },
     "execution_count": 8,
     "metadata": {},
     "output_type": "execute_result"
    }
   ],
   "source": [
    "ephys.Clustering.heading"
   ]
  },
  {
   "cell_type": "code",
   "execution_count": 9,
   "metadata": {},
   "outputs": [
    {
     "name": "stdout",
     "output_type": "stream",
     "text": [
      "# A set of spike waveforms for units out of a given CuratedClustering\n",
      "-> ephys.CuratedClustering\n",
      "\n"
     ]
    },
    {
     "data": {
      "text/plain": [
       "'# A set of spike waveforms for units out of a given CuratedClustering\\n-> ephys.CuratedClustering\\n'"
      ]
     },
     "execution_count": 9,
     "metadata": {},
     "output_type": "execute_result"
    }
   ],
   "source": [
    "ephys.WaveformSet.describe()"
   ]
  },
  {
   "cell_type": "markdown",
   "metadata": {
    "lines_to_next_cell": 0,
    "title": "probe"
   },
   "source": [
    "## Other Elements installed with the workflow\n",
    "\n",
    "- [`lab`](https://github.com/datajoint/element-lab): lab management related information, such as Lab, User, Project, Protocol, Source.\n",
    "- [`subject`](https://github.com/datajoint/element-animal): (element-animal) general animal information, User, Genetic background, Death etc.\n",
    "- [`session`](https://github.com/datajoint/element-session): General information of experimental sessions.\n",
    "\n",
    "For more information about these Elements, see [workflow session](https://github.com/datajoint/workflow-session)."
   ]
  },
  {
   "cell_type": "code",
   "execution_count": null,
   "metadata": {},
   "outputs": [],
   "source": [
    "dj.Diagram(lab)"
   ]
  },
  {
   "cell_type": "code",
   "execution_count": 11,
   "metadata": {},
   "outputs": [
    {
     "data": {
      "image/svg+xml": "<svg xmlns=\"http://www.w3.org/2000/svg\" xmlns:xlink=\"http://www.w3.org/1999/xlink\" width=\"1461pt\" height=\"114pt\" viewBox=\"0.00 0.00 1461.00 114.00\">\n<g id=\"graph0\" class=\"graph\" transform=\"scale(1 1) rotate(0) translate(4 110)\">\n<polygon fill=\"white\" stroke=\"transparent\" points=\"-4,4 -4,-110 1457,-110 1457,4 -4,4\"/>\n<!-- subject.Allele.Source -->\n<g id=\"node1\" class=\"node\">\n<title>subject.Allele.Source</title>\n<g id=\"a_node1\"><a xlink:title=\"→ subject.Allele\r------------------------------\r→ lab.Source\rsource_identifier=&quot;&quot; \rsource_url=&quot;&quot;        \rexpression_data_url=&quot;&quot; \r\">\n<polygon fill=\"transparent\" stroke=\"transparent\" points=\"109,-27 0,-27 0,-8 109,-8 109,-27\"/>\n<text text-anchor=\"middle\" x=\"54.5\" y=\"-15\" font-family=\"arial\" font-size=\"10.00\">subject.Allele.Source</text>\n</a>\n</g>\n</g>\n<!-- subject.Subject -->\n<g id=\"node2\" class=\"node\">\n<title>subject.Subject</title>\n<g id=\"a_node2\"><a xlink:title=\"subject              \r------------------------------\rsex                  \rsubject_birth_date   \rsubject_description=&quot;&quot; \r\">\n<polygon fill=\"#00ff00\" fill-opacity=\"0.188235\" stroke=\"#00ff00\" stroke-opacity=\"0.188235\" points=\"878.5,-106 780.5,-106 780.5,-71 878.5,-71 878.5,-106\"/>\n<text text-anchor=\"start\" x=\"788.5\" y=\"-86.4\" font-family=\"arial\" text-decoration=\"underline\" font-size=\"12.00\" fill=\"darkgreen\">subject.Subject</text>\n</a>\n</g>\n</g>\n<!-- subject.SubjectCullMethod -->\n<g id=\"node3\" class=\"node\">\n<title>subject.SubjectCullMethod</title>\n<g id=\"a_node3\"><a xlink:title=\"→ subject.Subject\r------------------------------\rcull_method          \r\">\n<polygon fill=\"#00ff00\" fill-opacity=\"0.188235\" stroke=\"#00ff00\" stroke-opacity=\"0.188235\" points=\"1073.5,-35 913.5,-35 913.5,0 1073.5,0 1073.5,-35\"/>\n<text text-anchor=\"middle\" x=\"993.5\" y=\"-14.4\" font-family=\"arial\" font-size=\"12.00\" fill=\"darkgreen\">subject.SubjectCullMethod</text>\n</a>\n</g>\n</g>\n<!-- subject.Subject&#45;&gt;subject.SubjectCullMethod -->\n<g id=\"edge1\" class=\"edge\">\n<title>subject.Subject-&gt;subject.SubjectCullMethod</title>\n<path fill=\"none\" stroke=\"#000000\" stroke-width=\"2\" stroke-opacity=\"0.250980\" d=\"M868.78,-70.97C894.65,-60.09 928.39,-45.89 954.25,-35.01\"/>\n</g>\n<!-- subject.Subject.Lab -->\n<g id=\"node5\" class=\"node\">\n<title>subject.Subject.Lab</title>\n<g id=\"a_node5\"><a xlink:title=\"→ subject.Subject\r→ lab.Lab\r------------------------------\rsubject_alias=&quot;&quot;     \r\">\n<polygon fill=\"transparent\" stroke=\"transparent\" points=\"1195,-27 1092,-27 1092,-8 1195,-8 1195,-27\"/>\n<text text-anchor=\"middle\" x=\"1143.5\" y=\"-15\" font-family=\"arial\" font-size=\"10.00\">subject.Subject.Lab</text>\n</a>\n</g>\n</g>\n<!-- subject.Subject&#45;&gt;subject.Subject.Lab -->\n<g id=\"edge2\" class=\"edge\">\n<title>subject.Subject-&gt;subject.Subject.Lab</title>\n<path fill=\"none\" stroke=\"#000000\" stroke-width=\"0.75\" stroke-opacity=\"0.250980\" d=\"M878.67,-78.2C929.79,-68.32 1012.03,-51.83 1082.5,-35 1092.53,-32.6 1103.42,-29.74 1113.18,-27.08\"/>\n</g>\n<!-- subject.Subject.User -->\n<g id=\"node6\" class=\"node\">\n<title>subject.Subject.User</title>\n<g id=\"a_node6\"><a xlink:title=\"→ subject.Subject\r→ lab.User\r\">\n<polygon fill=\"transparent\" stroke=\"transparent\" points=\"1321.5,-27 1213.5,-27 1213.5,-8 1321.5,-8 1321.5,-27\"/>\n<text text-anchor=\"middle\" x=\"1267.5\" y=\"-15\" font-family=\"arial\" font-size=\"10.00\">subject.Subject.User</text>\n</a>\n</g>\n</g>\n<!-- subject.Subject&#45;&gt;subject.Subject.User -->\n<g id=\"edge3\" class=\"edge\">\n<title>subject.Subject-&gt;subject.Subject.User</title>\n<path fill=\"none\" stroke=\"#000000\" stroke-width=\"0.75\" stroke-opacity=\"0.250980\" d=\"M878.65,-82.48C950.6,-74.7 1088.63,-58.2 1204.5,-35 1215.48,-32.8 1227.38,-29.84 1237.86,-27.03\"/>\n</g>\n<!-- subject.Subject.Line -->\n<g id=\"node9\" class=\"node\">\n<title>subject.Subject.Line</title>\n<g id=\"a_node9\"><a xlink:title=\"→ subject.Subject\r------------------------------\r→ subject.Line\r\">\n<polygon fill=\"transparent\" stroke=\"transparent\" points=\"468,-27 363,-27 363,-8 468,-8 468,-27\"/>\n<text text-anchor=\"middle\" x=\"415.5\" y=\"-15\" font-family=\"arial\" font-size=\"10.00\">subject.Subject.Line</text>\n</a>\n</g>\n</g>\n<!-- subject.Subject&#45;&gt;subject.Subject.Line -->\n<g id=\"edge4\" class=\"edge\">\n<title>subject.Subject-&gt;subject.Subject.Line</title>\n<path fill=\"none\" stroke=\"#000000\" stroke-width=\"2\" stroke-opacity=\"0.250980\" d=\"M780.36,-82.03C711.87,-73.98 584,-57.45 476.5,-35 465.87,-32.78 454.34,-29.81 444.19,-27\"/>\n</g>\n<!-- subject.Subject.Protocol -->\n<g id=\"node10\" class=\"node\">\n<title>subject.Subject.Protocol</title>\n<g id=\"a_node10\"><a xlink:title=\"→ subject.Subject\r→ lab.Protocol\r\">\n<polygon fill=\"transparent\" stroke=\"transparent\" points=\"609,-27 486,-27 486,-8 609,-8 609,-27\"/>\n<text text-anchor=\"middle\" x=\"547.5\" y=\"-15\" font-family=\"arial\" font-size=\"10.00\">subject.Subject.Protocol</text>\n</a>\n</g>\n</g>\n<!-- subject.Subject&#45;&gt;subject.Subject.Protocol -->\n<g id=\"edge5\" class=\"edge\">\n<title>subject.Subject-&gt;subject.Subject.Protocol</title>\n<path fill=\"none\" stroke=\"#000000\" stroke-width=\"0.75\" stroke-opacity=\"0.250980\" d=\"M780.38,-75.48C723.73,-61.62 632.03,-39.18 582.28,-27.01\"/>\n</g>\n<!-- subject.Subject.Strain -->\n<g id=\"node11\" class=\"node\">\n<title>subject.Subject.Strain</title>\n<g id=\"a_node11\"><a xlink:title=\"→ subject.Subject\r------------------------------\r→ subject.Strain\r\">\n<polygon fill=\"transparent\" stroke=\"transparent\" points=\"1453,-27 1340,-27 1340,-8 1453,-8 1453,-27\"/>\n<text text-anchor=\"middle\" x=\"1396.5\" y=\"-15\" font-family=\"arial\" font-size=\"10.00\">subject.Subject.Strain</text>\n</a>\n</g>\n</g>\n<!-- subject.Subject&#45;&gt;subject.Subject.Strain -->\n<g id=\"edge6\" class=\"edge\">\n<title>subject.Subject-&gt;subject.Subject.Strain</title>\n<path fill=\"none\" stroke=\"#000000\" stroke-width=\"2\" stroke-opacity=\"0.250980\" d=\"M878.53,-84.66C968.6,-78.93 1166.22,-63.99 1330.5,-35 1342.25,-32.93 1355,-29.92 1366.13,-27.04\"/>\n</g>\n<!-- subject.Subject.Source -->\n<g id=\"node12\" class=\"node\">\n<title>subject.Subject.Source</title>\n<g id=\"a_node12\"><a xlink:title=\"→ subject.Subject\r------------------------------\r→ lab.Source\r\">\n<polygon fill=\"transparent\" stroke=\"transparent\" points=\"745.5,-27 627.5,-27 627.5,-8 745.5,-8 745.5,-27\"/>\n<text text-anchor=\"middle\" x=\"686.5\" y=\"-15\" font-family=\"arial\" font-size=\"10.00\">subject.Subject.Source</text>\n</a>\n</g>\n</g>\n<!-- subject.Subject&#45;&gt;subject.Subject.Source -->\n<g id=\"edge7\" class=\"edge\">\n<title>subject.Subject-&gt;subject.Subject.Source</title>\n<path fill=\"none\" stroke=\"#000000\" stroke-width=\"2\" stroke-opacity=\"0.250980\" d=\"M795.25,-70.97C766.66,-57.18 727.05,-38.06 704.37,-27.12\"/>\n</g>\n<!-- subject.Zygosity -->\n<g id=\"node13\" class=\"node\">\n<title>subject.Zygosity</title>\n<g id=\"a_node13\"><a xlink:title=\"→ subject.Subject\r→ subject.Allele\r------------------------------\rzygosity             \r\">\n<polygon fill=\"#00ff00\" fill-opacity=\"0.188235\" stroke=\"#00ff00\" stroke-opacity=\"0.188235\" points=\"345,-35 242,-35 242,0 345,0 345,-35\"/>\n<text text-anchor=\"middle\" x=\"293.5\" y=\"-14.4\" font-family=\"arial\" font-size=\"12.00\" fill=\"darkgreen\">subject.Zygosity</text>\n</a>\n</g>\n</g>\n<!-- subject.Subject&#45;&gt;subject.Zygosity -->\n<g id=\"edge8\" class=\"edge\">\n<title>subject.Subject-&gt;subject.Zygosity</title>\n<path fill=\"none\" stroke=\"#000000\" stroke-width=\"0.75\" stroke-opacity=\"0.250980\" d=\"M780.47,-84.66C693.73,-79.08 507.83,-64.54 353.5,-35 350.74,-34.47 347.92,-33.88 345.09,-33.25\"/>\n</g>\n<!-- subject.SubjectDeath -->\n<g id=\"node14\" class=\"node\">\n<title>subject.SubjectDeath</title>\n<g id=\"a_node14\"><a xlink:title=\"→ subject.Subject\r------------------------------\rdeath_date           \r\">\n<polygon fill=\"#00ff00\" fill-opacity=\"0.188235\" stroke=\"#00ff00\" stroke-opacity=\"0.188235\" points=\"895,-35 764,-35 764,0 895,0 895,-35\"/>\n<text text-anchor=\"middle\" x=\"829.5\" y=\"-14.4\" font-family=\"arial\" font-size=\"12.00\" fill=\"darkgreen\">subject.SubjectDeath</text>\n</a>\n</g>\n</g>\n<!-- subject.Subject&#45;&gt;subject.SubjectDeath -->\n<g id=\"edge9\" class=\"edge\">\n<title>subject.Subject-&gt;subject.SubjectDeath</title>\n<path fill=\"none\" stroke=\"#000000\" stroke-width=\"2\" stroke-opacity=\"0.250980\" d=\"M829.5,-70.8C829.5,-59.95 829.5,-45.87 829.5,-35.05\"/>\n</g>\n<!-- subject.Strain -->\n<g id=\"node4\" class=\"node\">\n<title>subject.Strain</title>\n<g id=\"a_node4\"><a xlink:title=\"strain               \r------------------------------\rstrain_standard_name \rstrain_desc=&quot;&quot;       \r\">\n<polygon fill=\"#000000\" fill-opacity=\"0.125490\" stroke=\"transparent\" points=\"1435,-106 1358,-106 1358,-71 1435,-71 1435,-106\"/>\n<text text-anchor=\"start\" x=\"1366\" y=\"-87\" font-family=\"arial\" text-decoration=\"underline\" font-size=\"10.00\">subject.Strain</text>\n</a>\n</g>\n</g>\n<!-- subject.Strain&#45;&gt;subject.Subject.Strain -->\n<g id=\"edge10\" class=\"edge\">\n<title>subject.Strain-&gt;subject.Subject.Strain</title>\n<path fill=\"none\" stroke=\"#000000\" stroke-width=\"0.75\" stroke-dasharray=\"5,2\" stroke-opacity=\"0.250980\" d=\"M1396.5,-70.8C1396.5,-57.08 1396.5,-38.19 1396.5,-27.27\"/>\n</g>\n<!-- subject.Line -->\n<g id=\"node7\" class=\"node\">\n<title>subject.Line</title>\n<g id=\"a_node7\"><a xlink:title=\"line                 \r------------------------------\rspecies=&quot;&quot;           \rline_description=&quot;&quot;  \rtarget_phenotype=&quot;&quot;  \ris_active            \r\">\n<polygon fill=\"#000000\" fill-opacity=\"0.125490\" stroke=\"transparent\" points=\"210,-106 141,-106 141,-71 210,-71 210,-106\"/>\n<text text-anchor=\"start\" x=\"149\" y=\"-87\" font-family=\"arial\" text-decoration=\"underline\" font-size=\"10.00\">subject.Line</text>\n</a>\n</g>\n</g>\n<!-- subject.Line&#45;&gt;subject.Subject.Line -->\n<g id=\"edge11\" class=\"edge\">\n<title>subject.Line-&gt;subject.Subject.Line</title>\n<path fill=\"none\" stroke=\"#000000\" stroke-width=\"0.75\" stroke-dasharray=\"5,2\" stroke-opacity=\"0.250980\" d=\"M210.14,-77.54C257.39,-63.96 341.25,-39.85 385.79,-27.04\"/>\n</g>\n<!-- subject.Line.Allele -->\n<g id=\"node15\" class=\"node\">\n<title>subject.Line.Allele</title>\n<g id=\"a_node15\"><a xlink:title=\"→ subject.Line\r→ subject.Allele\r\">\n<polygon fill=\"transparent\" stroke=\"transparent\" points=\"223.5,-27 127.5,-27 127.5,-8 223.5,-8 223.5,-27\"/>\n<text text-anchor=\"middle\" x=\"175.5\" y=\"-15\" font-family=\"arial\" font-size=\"10.00\">subject.Line.Allele</text>\n</a>\n</g>\n</g>\n<!-- subject.Line&#45;&gt;subject.Line.Allele -->\n<g id=\"edge12\" class=\"edge\">\n<title>subject.Line-&gt;subject.Line.Allele</title>\n<path fill=\"none\" stroke=\"#000000\" stroke-width=\"0.75\" stroke-opacity=\"0.250980\" d=\"M175.5,-70.8C175.5,-57.08 175.5,-38.19 175.5,-27.27\"/>\n</g>\n<!-- subject.Allele -->\n<g id=\"node8\" class=\"node\">\n<title>subject.Allele</title>\n<g id=\"a_node8\"><a xlink:title=\"allele               \r------------------------------\rallele_standard_name=&quot;&quot; \r\">\n<polygon fill=\"#000000\" fill-opacity=\"0.125490\" stroke=\"transparent\" points=\"92,-106 17,-106 17,-71 92,-71 92,-106\"/>\n<text text-anchor=\"start\" x=\"25\" y=\"-87\" font-family=\"arial\" text-decoration=\"underline\" font-size=\"10.00\">subject.Allele</text>\n</a>\n</g>\n</g>\n<!-- subject.Allele&#45;&gt;subject.Allele.Source -->\n<g id=\"edge13\" class=\"edge\">\n<title>subject.Allele-&gt;subject.Allele.Source</title>\n<path fill=\"none\" stroke=\"#000000\" stroke-width=\"2\" stroke-opacity=\"0.250980\" d=\"M54.5,-70.8C54.5,-57.08 54.5,-38.19 54.5,-27.27\"/>\n</g>\n<!-- subject.Allele&#45;&gt;subject.Zygosity -->\n<g id=\"edge14\" class=\"edge\">\n<title>subject.Allele-&gt;subject.Zygosity</title>\n<path fill=\"none\" stroke=\"#000000\" stroke-width=\"0.75\" stroke-opacity=\"0.250980\" d=\"M92.11,-76.64C132.46,-64.99 196.83,-46.41 241.91,-33.4\"/>\n</g>\n<!-- subject.Allele&#45;&gt;subject.Line.Allele -->\n<g id=\"edge15\" class=\"edge\">\n<title>subject.Allele-&gt;subject.Line.Allele</title>\n<path fill=\"none\" stroke=\"#000000\" stroke-width=\"0.75\" stroke-opacity=\"0.250980\" d=\"M83.48,-70.97C107.67,-57.18 141.19,-38.06 160.38,-27.12\"/>\n</g>\n</g>\n</svg>",
      "text/plain": [
       "<datajoint.diagram.Diagram at 0x160a94880>"
      ]
     },
     "execution_count": 11,
     "metadata": {},
     "output_type": "execute_result"
    }
   ],
   "source": [
    "dj.Diagram(subject)"
   ]
  },
  {
   "cell_type": "code",
   "execution_count": 12,
   "metadata": {
    "title": "[subject](https://github.com/datajoint/element-animal): contains the basic information of subject, including Strain, Line, Subject, Zygosity, and SubjectDeath information."
   },
   "outputs": [
    {
     "name": "stdout",
     "output_type": "stream",
     "text": [
      "# Animal Subject\n",
      "subject              : varchar(8)                   \n",
      "---\n",
      "sex                  : enum('M','F','U')            \n",
      "subject_birth_date   : date                         \n",
      "subject_description=\"\" : varchar(1024)                \n",
      "\n"
     ]
    },
    {
     "data": {
      "text/plain": [
       "'# Animal Subject\\nsubject              : varchar(8)                   \\n---\\nsex                  : enum(\\'M\\',\\'F\\',\\'U\\')            \\nsubject_birth_date   : date                         \\nsubject_description=\"\" : varchar(1024)                \\n'"
      ]
     },
     "execution_count": 12,
     "metadata": {},
     "output_type": "execute_result"
    }
   ],
   "source": [
    "subject.Subject.describe()"
   ]
  },
  {
   "cell_type": "code",
   "execution_count": 13,
   "metadata": {},
   "outputs": [
    {
     "data": {
      "image/svg+xml": "<svg xmlns=\"http://www.w3.org/2000/svg\" xmlns:xlink=\"http://www.w3.org/1999/xlink\" width=\"662pt\" height=\"114pt\" viewBox=\"0.00 0.00 662.00 114.00\">\n<g id=\"graph0\" class=\"graph\" transform=\"scale(1 1) rotate(0) translate(4 110)\">\n<polygon fill=\"white\" stroke=\"transparent\" points=\"-4,4 -4,-110 658,-110 658,4 -4,4\"/>\n<!-- session.SessionDirectory -->\n<g id=\"node1\" class=\"node\">\n<title>session.SessionDirectory</title>\n<g id=\"a_node1\"><a xlink:title=\"→ session.Session\r------------------------------\rsession_dir          \r\">\n<polygon fill=\"#00ff00\" fill-opacity=\"0.188235\" stroke=\"#00ff00\" stroke-opacity=\"0.188235\" points=\"152,-35 0,-35 0,0 152,0 152,-35\"/>\n<text text-anchor=\"middle\" x=\"76\" y=\"-14.4\" font-family=\"arial\" font-size=\"12.00\" fill=\"darkgreen\">session.SessionDirectory</text>\n</a>\n</g>\n</g>\n<!-- session.Session -->\n<g id=\"node2\" class=\"node\">\n<title>session.Session</title>\n<g id=\"a_node2\"><a xlink:title=\"→ subject.Subject\rsession_datetime     \r\">\n<polygon fill=\"#00ff00\" fill-opacity=\"0.188235\" stroke=\"#00ff00\" stroke-opacity=\"0.188235\" points=\"395,-106 291,-106 291,-71 395,-71 395,-106\"/>\n<text text-anchor=\"start\" x=\"299\" y=\"-86.4\" font-family=\"arial\" text-decoration=\"underline\" font-size=\"12.00\" fill=\"darkgreen\">session.Session</text>\n</a>\n</g>\n</g>\n<!-- session.Session&#45;&gt;session.SessionDirectory -->\n<g id=\"edge1\" class=\"edge\">\n<title>session.Session-&gt;session.SessionDirectory</title>\n<path fill=\"none\" stroke=\"#000000\" stroke-width=\"2\" stroke-opacity=\"0.250980\" d=\"M290.89,-74.03C247.79,-62.89 186.38,-47.03 140.25,-35.1\"/>\n</g>\n<!-- session.SessionExperimenter -->\n<g id=\"node3\" class=\"node\">\n<title>session.SessionExperimenter</title>\n<g id=\"a_node3\"><a xlink:title=\"→ session.Session\r→ lab.User\r\">\n<polygon fill=\"#00ff00\" fill-opacity=\"0.188235\" stroke=\"#00ff00\" stroke-opacity=\"0.188235\" points=\"346,-35 170,-35 170,0 346,0 346,-35\"/>\n<text text-anchor=\"middle\" x=\"258\" y=\"-14.4\" font-family=\"arial\" font-size=\"12.00\" fill=\"darkgreen\">session.SessionExperimenter</text>\n</a>\n</g>\n</g>\n<!-- session.Session&#45;&gt;session.SessionExperimenter -->\n<g id=\"edge2\" class=\"edge\">\n<title>session.Session-&gt;session.SessionExperimenter</title>\n<path fill=\"none\" stroke=\"#000000\" stroke-width=\"0.75\" stroke-opacity=\"0.250980\" d=\"M322.42,-70.8C309.06,-59.95 291.71,-45.87 278.39,-35.05\"/>\n</g>\n<!-- session.SessionNote -->\n<g id=\"node4\" class=\"node\">\n<title>session.SessionNote</title>\n<g id=\"a_node4\"><a xlink:title=\"→ session.Session\r------------------------------\rsession_note         \r\">\n<polygon fill=\"#00ff00\" fill-opacity=\"0.188235\" stroke=\"#00ff00\" stroke-opacity=\"0.188235\" points=\"494,-35 364,-35 364,0 494,0 494,-35\"/>\n<text text-anchor=\"middle\" x=\"429\" y=\"-14.4\" font-family=\"arial\" font-size=\"12.00\" fill=\"darkgreen\">session.SessionNote</text>\n</a>\n</g>\n</g>\n<!-- session.Session&#45;&gt;session.SessionNote -->\n<g id=\"edge3\" class=\"edge\">\n<title>session.Session-&gt;session.SessionNote</title>\n<path fill=\"none\" stroke=\"#000000\" stroke-width=\"2\" stroke-opacity=\"0.250980\" d=\"M363.82,-70.8C377.34,-59.95 394.89,-45.87 408.37,-35.05\"/>\n</g>\n<!-- session.ProjectSession -->\n<g id=\"node5\" class=\"node\">\n<title>session.ProjectSession</title>\n<g id=\"a_node5\"><a xlink:title=\"→ lab.Project\r→ session.Session\r\">\n<polygon fill=\"#00ff00\" fill-opacity=\"0.188235\" stroke=\"#00ff00\" stroke-opacity=\"0.188235\" points=\"654,-35 512,-35 512,0 654,0 654,-35\"/>\n<text text-anchor=\"middle\" x=\"583\" y=\"-14.4\" font-family=\"arial\" font-size=\"12.00\" fill=\"darkgreen\">session.ProjectSession</text>\n</a>\n</g>\n</g>\n<!-- session.Session&#45;&gt;session.ProjectSession -->\n<g id=\"edge4\" class=\"edge\">\n<title>session.Session-&gt;session.ProjectSession</title>\n<path fill=\"none\" stroke=\"#000000\" stroke-width=\"0.75\" stroke-opacity=\"0.250980\" d=\"M395.08,-72.53C433.54,-61.47 485.89,-46.42 525.56,-35.01\"/>\n</g>\n</g>\n</svg>",
      "text/plain": [
       "<datajoint.diagram.Diagram at 0x160a94b80>"
      ]
     },
     "execution_count": 13,
     "metadata": {},
     "output_type": "execute_result"
    }
   ],
   "source": [
    "dj.Diagram(session)"
   ]
  },
  {
   "cell_type": "markdown",
   "metadata": {},
   "source": [
    "## Summary and next step\n",
    "\n",
    "+ This notebook introduced the overall structures of the schemas and tables in the workflow and relevant tools to explore the schema structure and table definitions.\n",
    "\n",
    "+ In the next notebook [03-process](03-process.ipynb), we will further introduce the detailed steps running through the pipeline and table contents accordingly."
   ]
  }
 ],
 "metadata": {
  "jupytext": {
   "encoding": "# -*- coding: utf-8 -*-",
   "formats": "ipynb,py"
  },
  "kernelspec": {
   "display_name": "Python 3.9.13 ('ele')",
   "language": "python",
   "name": "python3"
  },
  "language_info": {
   "codemirror_mode": {
    "name": "ipython",
    "version": 3
   },
   "file_extension": ".py",
   "mimetype": "text/x-python",
   "name": "python",
   "nbconvert_exporter": "python",
   "pygments_lexer": "ipython3",
   "version": "3.9.13"
  },
  "vscode": {
   "interpreter": {
    "hash": "d00c4ad21a7027bf1726d6ae3a9a6ef39c8838928eca5a3d5f51f3eb68720410"
   }
  }
 },
 "nbformat": 4,
 "nbformat_minor": 4
}
